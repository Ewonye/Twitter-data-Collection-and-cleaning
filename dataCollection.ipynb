{
 "cells": [
  {
   "cell_type": "markdown",
   "metadata": {
    "id": "p2D_ZX9Db8uY"
   },
   "source": [
    "# Tutorial on how to collect tweets based on key words\n",
    "\n",
    "This notebook shows you how to use the [tweepy](https://www.tweepy.org/) python library to collect tweets from Twitter based on key words. \n",
    "\n",
    "This notebook was created as an example of a dataset you can collect for the [AFD Gender-Based Violence Dataset Collection Challenge](https://zindi.africa/competitions/afd-gender-based-violence-dataset-collection-challenge).\n",
    "\n",
    "TW: This notebook collects tweets that could contain sensative. "
   ]
  },
  {
   "cell_type": "markdown",
   "metadata": {
    "id": "4PorU7qOb8u_"
   },
   "source": [
    "## STEP 1: PYTHON PACKAGES INSTALLATION"
   ]
  },
  {
   "cell_type": "markdown",
   "metadata": {
    "id": "q6XuSF_ob8vD"
   },
   "source": [
    "Install the following python packages that will help you to collect data from twiter.com "
   ]
  },
  {
   "cell_type": "code",
   "execution_count": 1,
   "metadata": {
    "ExecuteTime": {
     "end_time": "2021-05-03T14:32:56.801170Z",
     "start_time": "2021-05-03T14:32:26.228917Z"
    },
    "id": "adv09Rkqb8vG"
   },
   "outputs": [
    {
     "name": "stdout",
     "output_type": "stream",
     "text": [
      "Collecting tweepy\n",
      "  Downloading tweepy-3.10.0-py2.py3-none-any.whl (30 kB)\n",
      "Requirement already satisfied: requests[socks]>=2.11.1 in c:\\users\\lenovo\\anaconda3\\lib\\site-packages (from tweepy) (2.25.1)\n",
      "Requirement already satisfied: six>=1.10.0 in c:\\users\\lenovo\\anaconda3\\lib\\site-packages (from tweepy) (1.15.0)\n",
      "Requirement already satisfied: requests-oauthlib>=0.7.0 in c:\\users\\lenovo\\anaconda3\\lib\\site-packages (from tweepy) (1.3.0)\n",
      "Requirement already satisfied: oauthlib>=3.0.0 in c:\\users\\lenovo\\anaconda3\\lib\\site-packages (from requests-oauthlib>=0.7.0->tweepy) (3.1.0)\n",
      "Requirement already satisfied: idna<3,>=2.5 in c:\\users\\lenovo\\anaconda3\\lib\\site-packages (from requests[socks]>=2.11.1->tweepy) (2.7)\n",
      "Requirement already satisfied: chardet<5,>=3.0.2 in c:\\users\\lenovo\\anaconda3\\lib\\site-packages (from requests[socks]>=2.11.1->tweepy) (3.0.4)\n",
      "Requirement already satisfied: urllib3<1.27,>=1.21.1 in c:\\users\\lenovo\\anaconda3\\lib\\site-packages (from requests[socks]>=2.11.1->tweepy) (1.23)\n",
      "Requirement already satisfied: certifi>=2017.4.17 in c:\\users\\lenovo\\anaconda3\\lib\\site-packages (from requests[socks]>=2.11.1->tweepy) (2020.12.5)\n",
      "Requirement already satisfied: PySocks!=1.5.7,>=1.5.6 in c:\\users\\lenovo\\anaconda3\\lib\\site-packages (from requests[socks]>=2.11.1->tweepy) (1.6.8)\n",
      "Installing collected packages: tweepy\n",
      "Successfully installed tweepy-3.10.0\n"
     ]
    }
   ],
   "source": [
    "# !pip install tweepy "
   ]
  },
  {
   "cell_type": "code",
   "execution_count": 2,
   "metadata": {
    "ExecuteTime": {
     "end_time": "2021-05-03T14:33:01.468090Z",
     "start_time": "2021-05-03T14:32:56.803163Z"
    },
    "id": "1EzDYGg8b8vJ"
   },
   "outputs": [
    {
     "name": "stdout",
     "output_type": "stream",
     "text": [
      "Requirement already satisfied: unidecode in c:\\users\\lenovo\\anaconda3\\lib\\site-packages (1.2.0)\n"
     ]
    }
   ],
   "source": [
    "# !pip install unidecode"
   ]
  },
  {
   "cell_type": "markdown",
   "metadata": {
    "id": "aOyPPhNBb8vL"
   },
   "source": [
    "## STEP 2: IMPORT IMPORTANT PACKAGES "
   ]
  },
  {
   "cell_type": "code",
   "execution_count": 1,
   "metadata": {
    "ExecuteTime": {
     "end_time": "2021-05-08T18:27:09.580127Z",
     "start_time": "2021-05-08T18:27:07.104614Z"
    },
    "id": "NNzIyruUb8vO"
   },
   "outputs": [],
   "source": [
    "#import dependencies\n",
    "import tweepy\n",
    "from tweepy import OAuthHandler\n",
    "from tweepy.streaming import StreamListener\n",
    "import json\n",
    "from unidecode import unidecode\n",
    "import time\n",
    "import datetime\n",
    "from tqdm import tqdm \n",
    "import pandas as pd  \n",
    "import numpy as np "
   ]
  },
  {
   "cell_type": "markdown",
   "metadata": {
    "id": "WQ7rD4HDb8vS"
   },
   "source": [
    "## STEP 3:AUTHENTICATING TO Twitter’s API"
   ]
  },
  {
   "cell_type": "markdown",
   "metadata": {
    "id": "VAy8TZR9b8vW"
   },
   "source": [
    "(a) First, apply for a developer account to access the API. The Standard APIs are sufficient for this tutorial. They’re free, but have some limitations that we’ll learn to work around in this tutorial.\n",
    "\n",
    "Click here to apply: [apply for developer account to acces the API](https://developer.twitter.com/en/apply-for-access)\n",
    "\n",
    "(b) Once your developer account is setup, create an app that will make use of the API by clicking on your username in the top right corner to open the drop down menu, and clicking “Apps” as shown below. Then select “Create an app” and fill out the form. \n",
    "\n",
    "(c) Now that you have created a developer account and an app, you should have a set of keys to connect to the Twitter API. Specifically, you’ll have an\n",
    "- API key\n",
    "- API secret key\n",
    "- Access token\n",
    "- Access token secret\n",
    "\n",
    "These could be inserted directly into your code to connect to the Twitter API, as shown below."
   ]
  },
  {
   "cell_type": "code",
   "execution_count": 23,
   "metadata": {
    "ExecuteTime": {
     "end_time": "2021-05-04T18:48:33.292836Z",
     "start_time": "2021-05-04T18:48:33.274980Z"
    },
    "id": "l_tGb2Rqb8vZ"
   },
   "outputs": [],
   "source": [
    "consumer_key = 'wMyunBaUKFTEwjAUPDxTKcwvy'\n",
    "consumer_secret = 'QwglPQurDyLK3Akc5gL7m0GcWa2TxDZmTm9jAqpfE8gwoNrPiv'\n",
    "access_token = '3806985075-w30Rn3LMRHviX0Uy9TfLieSwTg0PW07Eq8qjP29'\n",
    "access_token_secret = '4AAjV1eUPzOaWOI3jYPTMwjCTCwatATg1tb8kfyOF20er'"
   ]
  },
  {
   "cell_type": "markdown",
   "metadata": {
    "id": "x-YqKa8nb8va"
   },
   "source": [
    "## STEP 4:  CONNECT TO TWITTER API USING THE SECRETS"
   ]
  },
  {
   "cell_type": "code",
   "execution_count": 24,
   "metadata": {
    "ExecuteTime": {
     "end_time": "2021-05-04T18:48:34.840697Z",
     "start_time": "2021-05-04T18:48:34.834576Z"
    },
    "id": "Ao2JlutAb8vb"
   },
   "outputs": [],
   "source": [
    "auth = tweepy.OAuthHandler(consumer_key, consumer_secret)\n",
    "auth.set_access_token(access_token, access_token_secret)\n",
    "\n",
    "api = tweepy.API(auth)"
   ]
  },
  {
   "cell_type": "markdown",
   "metadata": {
    "id": "yP5bme2Mb8vc"
   },
   "source": [
    "## STEP 5: DEFINE A FUNCTION THAT WILL TAKE OUR SEARCH QUERY"
   ]
  },
  {
   "cell_type": "code",
   "execution_count": 25,
   "metadata": {
    "ExecuteTime": {
     "end_time": "2021-05-04T18:48:36.740139Z",
     "start_time": "2021-05-04T18:48:36.718142Z"
    },
    "code_folding": [],
    "id": "8v5n7E90b8ve"
   },
   "outputs": [],
   "source": [
    "def tweetSearch(query, limit):\n",
    "    \"\"\"\n",
    "    This function will search a query provided in the twitter and,\n",
    "    retun a list of all tweets that have a query. \n",
    "    \"\"\"\n",
    "\n",
    "    # Create a blank variable\n",
    "    tweets = []\n",
    "\n",
    "    # Iterate through Twitter using Tweepy to find our query with our defined limit\n",
    "    for page in tweepy.Cursor(\n",
    "        api.search, q=query, count=limit, tweet_mode=\"extended\"\n",
    "    ).pages(limit):\n",
    "        for tweet in page:\n",
    "            tweets.append(tweet)\n",
    "\n",
    "    # return tweets\n",
    "    return tweets"
   ]
  },
  {
   "cell_type": "markdown",
   "metadata": {
    "id": "XICSxwlZb8vf"
   },
   "source": [
    "## STEP 6: CREATE A FUNCTION TO SAVE TWEETS INTO A DATAFRAME"
   ]
  },
  {
   "cell_type": "code",
   "execution_count": 26,
   "metadata": {
    "ExecuteTime": {
     "end_time": "2021-05-04T18:48:38.227345Z",
     "start_time": "2021-05-04T18:48:38.211319Z"
    },
    "id": "yDRT_rkLb8vg"
   },
   "outputs": [],
   "source": [
    "def tweets_to_data_frame(tweets):\n",
    "    \"\"\"\n",
    "    This function will receive tweets and collect specific data from it such as place, tweet's text,likes \n",
    "    retweets and save them into a pandas data frame.\n",
    "    \n",
    "    This function will return a pandas data frame that contains data from twitter.\n",
    "    \"\"\"\n",
    "    df = pd.DataFrame(data=[tweet.full_text.encode('utf-8') for tweet in tweets], columns=[\"Tweets\"])\n",
    "\n",
    "    df[\"id\"] = np.array([tweet.id for tweet in tweets])\n",
    "    df[\"lens\"] = np.array([len(tweet.full_text) for tweet in tweets])\n",
    "    df[\"date\"] = np.array([tweet.created_at for tweet in tweets])\n",
    "    df[\"place\"] = np.array([tweet.place for tweet in tweets])\n",
    "    df[\"coordinateS\"] = np.array([tweet.coordinates for tweet in tweets])\n",
    "    df[\"lang\"] = np.array([tweet.lang for tweet in tweets])\n",
    "    df[\"source\"] = np.array([tweet.source for tweet in tweets])\n",
    "    df[\"likes\"] = np.array([tweet.favorite_count for tweet in tweets])\n",
    "    df[\"retweets\"] = np.array([tweet.retweet_count for tweet in tweets])\n",
    "\n",
    "    return df"
   ]
  },
  {
   "cell_type": "markdown",
   "metadata": {
    "id": "TVvMHBRnb8vi"
   },
   "source": [
    "## STEP 7: ADD TWITTER HASHTAGS RELATED TO GENDER BASED VIOLENCE"
   ]
  },
  {
   "cell_type": "code",
   "execution_count": 34,
   "metadata": {
    "ExecuteTime": {
     "end_time": "2021-05-04T20:31:00.270066Z",
     "start_time": "2021-05-04T20:31:00.257101Z"
    },
    "id": "r0tVDXcBb8vj"
   },
   "outputs": [],
   "source": [
    "# add hashtags in the following list\n",
    "hashtags = [\n",
    "'#GBV',\n",
    "'#sexism',\n",
    "'#rape' ,\n",
    "'#domestic voilence'\n",
    "    \n",
    "]"
   ]
  },
  {
   "cell_type": "markdown",
   "metadata": {
    "id": "UysjRrU-b8vj"
   },
   "source": [
    "## STEP 8: RUN BOTH FUNCTIONS TO COLLECT DATA FROM TWITTER RELATED TO THE HASHTAGS LISTED ABOVE"
   ]
  },
  {
   "cell_type": "code",
   "execution_count": 36,
   "metadata": {
    "ExecuteTime": {
     "end_time": "2021-05-04T20:49:31.434712Z",
     "start_time": "2021-05-04T20:36:39.805751Z"
    },
    "id": "omenu95db8vk"
   },
   "outputs": [
    {
     "name": "stderr",
     "output_type": "stream",
     "text": [
      "\n",
      "  0%|                                                                                            | 0/4 [00:00<?, ?it/s]\n",
      " 25%|████████████████████▊                                                              | 1/4 [04:08<12:26, 248.87s/it]\n",
      " 50%|█████████████████████████████████████████▌                                         | 2/4 [06:38<07:17, 218.96s/it]\n",
      " 75%|██████████████████████████████████████████████████████████████▎                    | 3/4 [12:50<04:25, 265.11s/it]\n",
      "100%|███████████████████████████████████████████████████████████████████████████████████| 4/4 [12:51<00:00, 185.81s/it]\n"
     ]
    }
   ],
   "source": [
    "total_tweets = 0\n",
    "\n",
    "\"\"\"\n",
    "The following for loop will collect a tweets that have the hashtags\n",
    " mentioned in the list and save the tweets into csv file\n",
    "\"\"\"\n",
    "\n",
    "for n in tqdm(hashtags):\n",
    "    # first we fetch all tweets that have specific hashtag\n",
    "    hash_tweets = tweetSearch(query=n,limit=7000)\n",
    "    total_tweets += int(len(hash_tweets))\n",
    "    \n",
    "    # second we convert our tweets into datarame\n",
    "    df = tweets_to_data_frame(hash_tweets)\n",
    "    \n",
    "    #third we save the dataframe into csv file\n",
    "    df.to_csv(\"{}_tweets.csv\".format(n))"
   ]
  },
  {
   "cell_type": "code",
   "execution_count": 37,
   "metadata": {
    "ExecuteTime": {
     "end_time": "2021-05-04T20:49:31.449491Z",
     "start_time": "2021-05-04T20:49:31.436524Z"
    },
    "id": "Rw7W2zsqb8vm"
   },
   "outputs": [
    {
     "name": "stdout",
     "output_type": "stream",
     "text": [
      "total_tweets: 9143\n"
     ]
    }
   ],
   "source": [
    "# show total number of tweets collected\n",
    "print(\"total_tweets: {}\".format(total_tweets))"
   ]
  },
  {
   "cell_type": "markdown",
   "metadata": {
    "id": "JCuf0cMRb8vn"
   },
   "source": [
    "For more tweepy configuration please read the tweepy documentation [here](https://docs.tweepy.org/en/latest/)\n",
    "\n",
    "This notebook prepared by\n",
    "\n",
    "**Davis David** \n",
    "\n",
    "**Zindi Ambassador in Tanzania**\n",
    "\n",
    "My zindi Profile: [https://zindi.africa/users/Davisy](https://zindi.africa/users/Davisy)"
   ]
  },
  {
   "cell_type": "code",
   "execution_count": 3,
   "metadata": {
    "ExecuteTime": {
     "end_time": "2021-05-08T18:27:22.366640Z",
     "start_time": "2021-05-08T18:27:22.356673Z"
    },
    "id": "7ujQtXpyb8vo"
   },
   "outputs": [],
   "source": [
    "# df.head()"
   ]
  },
  {
   "cell_type": "code",
   "execution_count": 4,
   "metadata": {
    "ExecuteTime": {
     "end_time": "2021-05-08T18:27:23.411929Z",
     "start_time": "2021-05-08T18:27:23.036134Z"
    }
   },
   "outputs": [],
   "source": [
    "df1=pd.read_csv('#rape_tweets.csv')"
   ]
  },
  {
   "cell_type": "code",
   "execution_count": 5,
   "metadata": {
    "ExecuteTime": {
     "end_time": "2021-05-08T18:27:24.777323Z",
     "start_time": "2021-05-08T18:27:24.508056Z"
    }
   },
   "outputs": [
    {
     "data": {
      "text/html": [
       "<div>\n",
       "<style scoped>\n",
       "    .dataframe tbody tr th:only-of-type {\n",
       "        vertical-align: middle;\n",
       "    }\n",
       "\n",
       "    .dataframe tbody tr th {\n",
       "        vertical-align: top;\n",
       "    }\n",
       "\n",
       "    .dataframe thead th {\n",
       "        text-align: right;\n",
       "    }\n",
       "</style>\n",
       "<table border=\"1\" class=\"dataframe\">\n",
       "  <thead>\n",
       "    <tr style=\"text-align: right;\">\n",
       "      <th></th>\n",
       "      <th>Unnamed: 0</th>\n",
       "      <th>Tweets</th>\n",
       "      <th>id</th>\n",
       "      <th>lens</th>\n",
       "      <th>date</th>\n",
       "      <th>place</th>\n",
       "      <th>coordinateS</th>\n",
       "      <th>lang</th>\n",
       "      <th>source</th>\n",
       "      <th>likes</th>\n",
       "      <th>retweets</th>\n",
       "    </tr>\n",
       "  </thead>\n",
       "  <tbody>\n",
       "    <tr>\n",
       "      <th>0</th>\n",
       "      <td>0</td>\n",
       "      <td>b'RT @KaceyKells: KELLCEY \"This story not only...</td>\n",
       "      <td>1389681959329206272</td>\n",
       "      <td>140</td>\n",
       "      <td>2021-05-04 20:42:52</td>\n",
       "      <td>NaN</td>\n",
       "      <td>NaN</td>\n",
       "      <td>en</td>\n",
       "      <td>Twitter for iPhone</td>\n",
       "      <td>0</td>\n",
       "      <td>10284</td>\n",
       "    </tr>\n",
       "    <tr>\n",
       "      <th>1</th>\n",
       "      <td>1</td>\n",
       "      <td>b'RT @notice_com_ng: Man defiles his three tee...</td>\n",
       "      <td>1389681326786191362</td>\n",
       "      <td>139</td>\n",
       "      <td>2021-05-04 20:40:21</td>\n",
       "      <td>NaN</td>\n",
       "      <td>NaN</td>\n",
       "      <td>en</td>\n",
       "      <td>EndPoliceBrutality</td>\n",
       "      <td>0</td>\n",
       "      <td>2</td>\n",
       "    </tr>\n",
       "    <tr>\n",
       "      <th>2</th>\n",
       "      <td>2</td>\n",
       "      <td>b'Man defiles his three teenage daughters, ano...</td>\n",
       "      <td>1389681304845828100</td>\n",
       "      <td>169</td>\n",
       "      <td>2021-05-04 20:40:16</td>\n",
       "      <td>NaN</td>\n",
       "      <td>NaN</td>\n",
       "      <td>en</td>\n",
       "      <td>notice.com.ng</td>\n",
       "      <td>1</td>\n",
       "      <td>2</td>\n",
       "    </tr>\n",
       "    <tr>\n",
       "      <th>3</th>\n",
       "      <td>3</td>\n",
       "      <td>b'RT @KaceyKells: KELLCEY \"This story not only...</td>\n",
       "      <td>1389680872937426944</td>\n",
       "      <td>140</td>\n",
       "      <td>2021-05-04 20:38:33</td>\n",
       "      <td>NaN</td>\n",
       "      <td>NaN</td>\n",
       "      <td>en</td>\n",
       "      <td>Twitter Web App</td>\n",
       "      <td>0</td>\n",
       "      <td>10284</td>\n",
       "    </tr>\n",
       "    <tr>\n",
       "      <th>4</th>\n",
       "      <td>4</td>\n",
       "      <td>b'RT @PixelProject: #AFRICA: Abuse of women in...</td>\n",
       "      <td>1389679991621881856</td>\n",
       "      <td>132</td>\n",
       "      <td>2021-05-04 20:35:03</td>\n",
       "      <td>NaN</td>\n",
       "      <td>NaN</td>\n",
       "      <td>en</td>\n",
       "      <td>Twitter Web App</td>\n",
       "      <td>0</td>\n",
       "      <td>1</td>\n",
       "    </tr>\n",
       "  </tbody>\n",
       "</table>\n",
       "</div>"
      ],
      "text/plain": [
       "   Unnamed: 0                                             Tweets  \\\n",
       "0           0  b'RT @KaceyKells: KELLCEY \"This story not only...   \n",
       "1           1  b'RT @notice_com_ng: Man defiles his three tee...   \n",
       "2           2  b'Man defiles his three teenage daughters, ano...   \n",
       "3           3  b'RT @KaceyKells: KELLCEY \"This story not only...   \n",
       "4           4  b'RT @PixelProject: #AFRICA: Abuse of women in...   \n",
       "\n",
       "                    id  lens                 date place coordinateS lang  \\\n",
       "0  1389681959329206272   140  2021-05-04 20:42:52   NaN         NaN   en   \n",
       "1  1389681326786191362   139  2021-05-04 20:40:21   NaN         NaN   en   \n",
       "2  1389681304845828100   169  2021-05-04 20:40:16   NaN         NaN   en   \n",
       "3  1389680872937426944   140  2021-05-04 20:38:33   NaN         NaN   en   \n",
       "4  1389679991621881856   132  2021-05-04 20:35:03   NaN         NaN   en   \n",
       "\n",
       "               source  likes  retweets  \n",
       "0  Twitter for iPhone      0     10284  \n",
       "1  EndPoliceBrutality      0         2  \n",
       "2       notice.com.ng      1         2  \n",
       "3     Twitter Web App      0     10284  \n",
       "4     Twitter Web App      0         1  "
      ]
     },
     "execution_count": 5,
     "metadata": {},
     "output_type": "execute_result"
    }
   ],
   "source": [
    "df1.head()"
   ]
  },
  {
   "cell_type": "code",
   "execution_count": 6,
   "metadata": {
    "ExecuteTime": {
     "end_time": "2021-05-08T18:27:25.595789Z",
     "start_time": "2021-05-08T18:27:25.579802Z"
    }
   },
   "outputs": [
    {
     "data": {
      "text/plain": [
       "'b\\'RT @KaceyKells: KELLCEY \"This story not only bears witness to what countless other women have gone through, but also offers a message of ho\\\\xe2\\\\x80\\\\xa6\\''"
      ]
     },
     "execution_count": 6,
     "metadata": {},
     "output_type": "execute_result"
    }
   ],
   "source": [
    "df1['Tweets'][0]"
   ]
  },
  {
   "cell_type": "code",
   "execution_count": 7,
   "metadata": {
    "ExecuteTime": {
     "end_time": "2021-05-08T18:27:28.179032Z",
     "start_time": "2021-05-08T18:27:28.167992Z"
    }
   },
   "outputs": [
    {
     "data": {
      "text/plain": [
       "(4949, 11)"
      ]
     },
     "execution_count": 7,
     "metadata": {},
     "output_type": "execute_result"
    }
   ],
   "source": [
    "df1.shape"
   ]
  },
  {
   "cell_type": "code",
   "execution_count": 8,
   "metadata": {
    "ExecuteTime": {
     "end_time": "2021-05-08T18:27:28.818482Z",
     "start_time": "2021-05-08T18:27:28.724317Z"
    }
   },
   "outputs": [],
   "source": [
    "df2=pd.read_csv('#sexism_tweets.csv')"
   ]
  },
  {
   "cell_type": "code",
   "execution_count": 9,
   "metadata": {
    "ExecuteTime": {
     "end_time": "2021-05-08T18:27:29.642109Z",
     "start_time": "2021-05-08T18:27:29.620199Z"
    }
   },
   "outputs": [
    {
     "data": {
      "text/html": [
       "<div>\n",
       "<style scoped>\n",
       "    .dataframe tbody tr th:only-of-type {\n",
       "        vertical-align: middle;\n",
       "    }\n",
       "\n",
       "    .dataframe tbody tr th {\n",
       "        vertical-align: top;\n",
       "    }\n",
       "\n",
       "    .dataframe thead th {\n",
       "        text-align: right;\n",
       "    }\n",
       "</style>\n",
       "<table border=\"1\" class=\"dataframe\">\n",
       "  <thead>\n",
       "    <tr style=\"text-align: right;\">\n",
       "      <th></th>\n",
       "      <th>Unnamed: 0</th>\n",
       "      <th>Tweets</th>\n",
       "      <th>id</th>\n",
       "      <th>lens</th>\n",
       "      <th>date</th>\n",
       "      <th>place</th>\n",
       "      <th>coordinateS</th>\n",
       "      <th>lang</th>\n",
       "      <th>source</th>\n",
       "      <th>likes</th>\n",
       "      <th>retweets</th>\n",
       "    </tr>\n",
       "  </thead>\n",
       "  <tbody>\n",
       "    <tr>\n",
       "      <th>0</th>\n",
       "      <td>0</td>\n",
       "      <td>b'RT @DingaBelle: @_snowbunting @Flomoll \\xf0\\...</td>\n",
       "      <td>1389680927031369734</td>\n",
       "      <td>140</td>\n",
       "      <td>2021-05-04 20:38:46</td>\n",
       "      <td>NaN</td>\n",
       "      <td>NaN</td>\n",
       "      <td>en</td>\n",
       "      <td>Twitter for Android</td>\n",
       "      <td>0</td>\n",
       "      <td>3</td>\n",
       "    </tr>\n",
       "    <tr>\n",
       "      <th>1</th>\n",
       "      <td>1</td>\n",
       "      <td>b'RT @DingaBelle: @_snowbunting @Flomoll \\xf0\\...</td>\n",
       "      <td>1389676992648318980</td>\n",
       "      <td>140</td>\n",
       "      <td>2021-05-04 20:23:08</td>\n",
       "      <td>NaN</td>\n",
       "      <td>NaN</td>\n",
       "      <td>en</td>\n",
       "      <td>Twitter for iPhone</td>\n",
       "      <td>0</td>\n",
       "      <td>3</td>\n",
       "    </tr>\n",
       "    <tr>\n",
       "      <th>2</th>\n",
       "      <td>2</td>\n",
       "      <td>b\"Finally watched #SexyLamp after years of try...</td>\n",
       "      <td>1389676944782934017</td>\n",
       "      <td>229</td>\n",
       "      <td>2021-05-04 20:22:57</td>\n",
       "      <td>NaN</td>\n",
       "      <td>NaN</td>\n",
       "      <td>en</td>\n",
       "      <td>Twitter for Android</td>\n",
       "      <td>1</td>\n",
       "      <td>0</td>\n",
       "    </tr>\n",
       "    <tr>\n",
       "      <th>3</th>\n",
       "      <td>3</td>\n",
       "      <td>b'\\xf0\\x9f\\x98\\xb1\\xf0\\x9f\\x98\\xb1\\xf0\\x9f\\x98...</td>\n",
       "      <td>1389675769522184199</td>\n",
       "      <td>302</td>\n",
       "      <td>2021-05-04 20:18:17</td>\n",
       "      <td>NaN</td>\n",
       "      <td>NaN</td>\n",
       "      <td>en</td>\n",
       "      <td>Twitter for Android</td>\n",
       "      <td>1</td>\n",
       "      <td>0</td>\n",
       "    </tr>\n",
       "    <tr>\n",
       "      <th>4</th>\n",
       "      <td>4</td>\n",
       "      <td>b'RT @DingaBelle: @_snowbunting @Flomoll \\xf0\\...</td>\n",
       "      <td>1389674632307937295</td>\n",
       "      <td>140</td>\n",
       "      <td>2021-05-04 20:13:45</td>\n",
       "      <td>NaN</td>\n",
       "      <td>NaN</td>\n",
       "      <td>en</td>\n",
       "      <td>Twitter for iPhone</td>\n",
       "      <td>0</td>\n",
       "      <td>3</td>\n",
       "    </tr>\n",
       "  </tbody>\n",
       "</table>\n",
       "</div>"
      ],
      "text/plain": [
       "   Unnamed: 0                                             Tweets  \\\n",
       "0           0  b'RT @DingaBelle: @_snowbunting @Flomoll \\xf0\\...   \n",
       "1           1  b'RT @DingaBelle: @_snowbunting @Flomoll \\xf0\\...   \n",
       "2           2  b\"Finally watched #SexyLamp after years of try...   \n",
       "3           3  b'\\xf0\\x9f\\x98\\xb1\\xf0\\x9f\\x98\\xb1\\xf0\\x9f\\x98...   \n",
       "4           4  b'RT @DingaBelle: @_snowbunting @Flomoll \\xf0\\...   \n",
       "\n",
       "                    id  lens                 date place  coordinateS lang  \\\n",
       "0  1389680927031369734   140  2021-05-04 20:38:46   NaN          NaN   en   \n",
       "1  1389676992648318980   140  2021-05-04 20:23:08   NaN          NaN   en   \n",
       "2  1389676944782934017   229  2021-05-04 20:22:57   NaN          NaN   en   \n",
       "3  1389675769522184199   302  2021-05-04 20:18:17   NaN          NaN   en   \n",
       "4  1389674632307937295   140  2021-05-04 20:13:45   NaN          NaN   en   \n",
       "\n",
       "                source  likes  retweets  \n",
       "0  Twitter for Android      0         3  \n",
       "1   Twitter for iPhone      0         3  \n",
       "2  Twitter for Android      1         0  \n",
       "3  Twitter for Android      1         0  \n",
       "4   Twitter for iPhone      0         3  "
      ]
     },
     "execution_count": 9,
     "metadata": {},
     "output_type": "execute_result"
    }
   ],
   "source": [
    "df2.head()"
   ]
  },
  {
   "cell_type": "code",
   "execution_count": 10,
   "metadata": {
    "ExecuteTime": {
     "end_time": "2021-05-08T18:27:30.359677Z",
     "start_time": "2021-05-08T18:27:30.348677Z"
    }
   },
   "outputs": [],
   "source": [
    "\n",
    "# df2['Tweets'] = df2['Tweets'].map(lambda x: x.lstrip(\"@\"\").rstrip(\"b'RT\"))"
   ]
  },
  {
   "cell_type": "code",
   "execution_count": 11,
   "metadata": {
    "ExecuteTime": {
     "end_time": "2021-05-08T18:27:33.268810Z",
     "start_time": "2021-05-08T18:27:33.256843Z"
    }
   },
   "outputs": [
    {
     "data": {
      "text/plain": [
       "\"b'\\\\xf0\\\\x9f\\\\x98\\\\xb1\\\\xf0\\\\x9f\\\\x98\\\\xb1\\\\xf0\\\\x9f\\\\x98\\\\xb1\\\\xf0\\\\x9f\\\\x98\\\\xb1\\\\xf0\\\\x9f\\\\x98\\\\xb1\\\\nWhile good people were/are sleeping, this is happening....\\\\n#Fascism, #Capitalism, #Neoliberalism are rising &amp; inciting #Hate, #Xenophobia, #Racism, #Sexism, etc., and stirring up #Nationalism and self serving #Greed.\\\\n#Unite and #ActNow to #StopFascism.\\\\n#SaveOurPlanet. https://t.co/fe576Gw2Vw'\""
      ]
     },
     "execution_count": 11,
     "metadata": {},
     "output_type": "execute_result"
    }
   ],
   "source": [
    "df2['Tweets'][3]"
   ]
  },
  {
   "cell_type": "code",
   "execution_count": 12,
   "metadata": {
    "ExecuteTime": {
     "end_time": "2021-05-08T18:27:33.870328Z",
     "start_time": "2021-05-08T18:27:33.842379Z"
    }
   },
   "outputs": [
    {
     "data": {
      "text/html": [
       "<div>\n",
       "<style scoped>\n",
       "    .dataframe tbody tr th:only-of-type {\n",
       "        vertical-align: middle;\n",
       "    }\n",
       "\n",
       "    .dataframe tbody tr th {\n",
       "        vertical-align: top;\n",
       "    }\n",
       "\n",
       "    .dataframe thead th {\n",
       "        text-align: right;\n",
       "    }\n",
       "</style>\n",
       "<table border=\"1\" class=\"dataframe\">\n",
       "  <thead>\n",
       "    <tr style=\"text-align: right;\">\n",
       "      <th></th>\n",
       "      <th>Unnamed: 0</th>\n",
       "      <th>Tweets</th>\n",
       "      <th>id</th>\n",
       "      <th>lens</th>\n",
       "      <th>date</th>\n",
       "      <th>place</th>\n",
       "      <th>coordinateS</th>\n",
       "      <th>lang</th>\n",
       "      <th>source</th>\n",
       "      <th>likes</th>\n",
       "      <th>retweets</th>\n",
       "    </tr>\n",
       "  </thead>\n",
       "  <tbody>\n",
       "    <tr>\n",
       "      <th>0</th>\n",
       "      <td>0</td>\n",
       "      <td>b'RT @DingaBelle: @_snowbunting @Flomoll \\xf0\\...</td>\n",
       "      <td>1389680927031369734</td>\n",
       "      <td>140</td>\n",
       "      <td>2021-05-04 20:38:46</td>\n",
       "      <td>NaN</td>\n",
       "      <td>NaN</td>\n",
       "      <td>en</td>\n",
       "      <td>Twitter for Android</td>\n",
       "      <td>0</td>\n",
       "      <td>3</td>\n",
       "    </tr>\n",
       "    <tr>\n",
       "      <th>1</th>\n",
       "      <td>1</td>\n",
       "      <td>b'RT @DingaBelle: @_snowbunting @Flomoll \\xf0\\...</td>\n",
       "      <td>1389676992648318980</td>\n",
       "      <td>140</td>\n",
       "      <td>2021-05-04 20:23:08</td>\n",
       "      <td>NaN</td>\n",
       "      <td>NaN</td>\n",
       "      <td>en</td>\n",
       "      <td>Twitter for iPhone</td>\n",
       "      <td>0</td>\n",
       "      <td>3</td>\n",
       "    </tr>\n",
       "    <tr>\n",
       "      <th>2</th>\n",
       "      <td>2</td>\n",
       "      <td>b\"Finally watched #SexyLamp after years of try...</td>\n",
       "      <td>1389676944782934017</td>\n",
       "      <td>229</td>\n",
       "      <td>2021-05-04 20:22:57</td>\n",
       "      <td>NaN</td>\n",
       "      <td>NaN</td>\n",
       "      <td>en</td>\n",
       "      <td>Twitter for Android</td>\n",
       "      <td>1</td>\n",
       "      <td>0</td>\n",
       "    </tr>\n",
       "    <tr>\n",
       "      <th>3</th>\n",
       "      <td>3</td>\n",
       "      <td>b'\\xf0\\x9f\\x98\\xb1\\xf0\\x9f\\x98\\xb1\\xf0\\x9f\\x98...</td>\n",
       "      <td>1389675769522184199</td>\n",
       "      <td>302</td>\n",
       "      <td>2021-05-04 20:18:17</td>\n",
       "      <td>NaN</td>\n",
       "      <td>NaN</td>\n",
       "      <td>en</td>\n",
       "      <td>Twitter for Android</td>\n",
       "      <td>1</td>\n",
       "      <td>0</td>\n",
       "    </tr>\n",
       "    <tr>\n",
       "      <th>4</th>\n",
       "      <td>4</td>\n",
       "      <td>b'RT @DingaBelle: @_snowbunting @Flomoll \\xf0\\...</td>\n",
       "      <td>1389674632307937295</td>\n",
       "      <td>140</td>\n",
       "      <td>2021-05-04 20:13:45</td>\n",
       "      <td>NaN</td>\n",
       "      <td>NaN</td>\n",
       "      <td>en</td>\n",
       "      <td>Twitter for iPhone</td>\n",
       "      <td>0</td>\n",
       "      <td>3</td>\n",
       "    </tr>\n",
       "  </tbody>\n",
       "</table>\n",
       "</div>"
      ],
      "text/plain": [
       "   Unnamed: 0                                             Tweets  \\\n",
       "0           0  b'RT @DingaBelle: @_snowbunting @Flomoll \\xf0\\...   \n",
       "1           1  b'RT @DingaBelle: @_snowbunting @Flomoll \\xf0\\...   \n",
       "2           2  b\"Finally watched #SexyLamp after years of try...   \n",
       "3           3  b'\\xf0\\x9f\\x98\\xb1\\xf0\\x9f\\x98\\xb1\\xf0\\x9f\\x98...   \n",
       "4           4  b'RT @DingaBelle: @_snowbunting @Flomoll \\xf0\\...   \n",
       "\n",
       "                    id  lens                 date place  coordinateS lang  \\\n",
       "0  1389680927031369734   140  2021-05-04 20:38:46   NaN          NaN   en   \n",
       "1  1389676992648318980   140  2021-05-04 20:23:08   NaN          NaN   en   \n",
       "2  1389676944782934017   229  2021-05-04 20:22:57   NaN          NaN   en   \n",
       "3  1389675769522184199   302  2021-05-04 20:18:17   NaN          NaN   en   \n",
       "4  1389674632307937295   140  2021-05-04 20:13:45   NaN          NaN   en   \n",
       "\n",
       "                source  likes  retweets  \n",
       "0  Twitter for Android      0         3  \n",
       "1   Twitter for iPhone      0         3  \n",
       "2  Twitter for Android      1         0  \n",
       "3  Twitter for Android      1         0  \n",
       "4   Twitter for iPhone      0         3  "
      ]
     },
     "execution_count": 12,
     "metadata": {},
     "output_type": "execute_result"
    }
   ],
   "source": [
    "df2.head()"
   ]
  },
  {
   "cell_type": "code",
   "execution_count": 22,
   "metadata": {
    "ExecuteTime": {
     "end_time": "2021-05-08T18:31:00.214179Z",
     "start_time": "2021-05-08T18:31:00.177306Z"
    }
   },
   "outputs": [],
   "source": [
    "df3=pd.read_csv('_domesticviolence_tweets.csv')\n"
   ]
  },
  {
   "cell_type": "code",
   "execution_count": 14,
   "metadata": {
    "ExecuteTime": {
     "end_time": "2021-05-08T18:28:31.028836Z",
     "start_time": "2021-05-08T18:28:30.231829Z"
    }
   },
   "outputs": [],
   "source": [
    "df4=pd.read_csv('_metoo_tweets.csv')"
   ]
  },
  {
   "cell_type": "code",
   "execution_count": 18,
   "metadata": {
    "ExecuteTime": {
     "end_time": "2021-05-08T18:29:46.351744Z",
     "start_time": "2021-05-08T18:29:46.048194Z"
    }
   },
   "outputs": [],
   "source": [
    "df5=pd.read_csv('#GBV_tweets.csv')"
   ]
  },
  {
   "cell_type": "code",
   "execution_count": 23,
   "metadata": {
    "ExecuteTime": {
     "end_time": "2021-05-08T18:32:15.902216Z",
     "start_time": "2021-05-08T18:32:15.889217Z"
    }
   },
   "outputs": [],
   "source": [
    "import re\n",
    "def remove_pattern(input_txt, pattern):\n",
    "    r = re.findall(pattern, input_txt)\n",
    "    for i in r:\n",
    "        input_txt = re.sub(i, '', input_txt)\n",
    "        \n",
    "    return input_txt  "
   ]
  },
  {
   "cell_type": "code",
   "execution_count": 25,
   "metadata": {
    "ExecuteTime": {
     "end_time": "2021-05-08T18:32:53.013660Z",
     "start_time": "2021-05-08T18:32:52.977745Z"
    }
   },
   "outputs": [
    {
     "data": {
      "text/plain": [
       "(61355, 11)"
      ]
     },
     "execution_count": 25,
     "metadata": {},
     "output_type": "execute_result"
    }
   ],
   "source": [
    "data=pd.concat([df1,df2,df3,df4,df5])\n",
    "data.shape"
   ]
  },
  {
   "cell_type": "code",
   "execution_count": 26,
   "metadata": {
    "ExecuteTime": {
     "end_time": "2021-05-08T18:34:10.053683Z",
     "start_time": "2021-05-08T18:34:07.957808Z"
    }
   },
   "outputs": [],
   "source": [
    "data['Tweets_new'] = np.vectorize(remove_pattern)(data['Tweets'], \"@[\\w]*\")"
   ]
  },
  {
   "cell_type": "code",
   "execution_count": 28,
   "metadata": {
    "ExecuteTime": {
     "end_time": "2021-05-08T18:34:59.099125Z",
     "start_time": "2021-05-08T18:34:58.857763Z"
    }
   },
   "outputs": [],
   "source": [
    "data=data.drop(['Unnamed: 0'],axis=1)"
   ]
  },
  {
   "cell_type": "code",
   "execution_count": 29,
   "metadata": {
    "ExecuteTime": {
     "end_time": "2021-05-08T18:35:05.205744Z",
     "start_time": "2021-05-08T18:35:05.172832Z"
    }
   },
   "outputs": [
    {
     "data": {
      "text/html": [
       "<div>\n",
       "<style scoped>\n",
       "    .dataframe tbody tr th:only-of-type {\n",
       "        vertical-align: middle;\n",
       "    }\n",
       "\n",
       "    .dataframe tbody tr th {\n",
       "        vertical-align: top;\n",
       "    }\n",
       "\n",
       "    .dataframe thead th {\n",
       "        text-align: right;\n",
       "    }\n",
       "</style>\n",
       "<table border=\"1\" class=\"dataframe\">\n",
       "  <thead>\n",
       "    <tr style=\"text-align: right;\">\n",
       "      <th></th>\n",
       "      <th>Tweets</th>\n",
       "      <th>id</th>\n",
       "      <th>lens</th>\n",
       "      <th>date</th>\n",
       "      <th>place</th>\n",
       "      <th>coordinateS</th>\n",
       "      <th>lang</th>\n",
       "      <th>source</th>\n",
       "      <th>likes</th>\n",
       "      <th>retweets</th>\n",
       "      <th>Tweets_new</th>\n",
       "    </tr>\n",
       "  </thead>\n",
       "  <tbody>\n",
       "    <tr>\n",
       "      <th>0</th>\n",
       "      <td>b'RT @KaceyKells: KELLCEY \"This story not only...</td>\n",
       "      <td>1389681959329206272</td>\n",
       "      <td>140</td>\n",
       "      <td>2021-05-04 20:42:52</td>\n",
       "      <td>NaN</td>\n",
       "      <td>NaN</td>\n",
       "      <td>en</td>\n",
       "      <td>Twitter for iPhone</td>\n",
       "      <td>0</td>\n",
       "      <td>10284</td>\n",
       "      <td>b'RT : KELLCEY \"This story not only bears witn...</td>\n",
       "    </tr>\n",
       "    <tr>\n",
       "      <th>1</th>\n",
       "      <td>b'RT @notice_com_ng: Man defiles his three tee...</td>\n",
       "      <td>1389681326786191362</td>\n",
       "      <td>139</td>\n",
       "      <td>2021-05-04 20:40:21</td>\n",
       "      <td>NaN</td>\n",
       "      <td>NaN</td>\n",
       "      <td>en</td>\n",
       "      <td>EndPoliceBrutality</td>\n",
       "      <td>0</td>\n",
       "      <td>2</td>\n",
       "      <td>b'RT : Man defiles his three teenage daughters...</td>\n",
       "    </tr>\n",
       "    <tr>\n",
       "      <th>2</th>\n",
       "      <td>b'Man defiles his three teenage daughters, ano...</td>\n",
       "      <td>1389681304845828100</td>\n",
       "      <td>169</td>\n",
       "      <td>2021-05-04 20:40:16</td>\n",
       "      <td>NaN</td>\n",
       "      <td>NaN</td>\n",
       "      <td>en</td>\n",
       "      <td>notice.com.ng</td>\n",
       "      <td>1</td>\n",
       "      <td>2</td>\n",
       "      <td>b'Man defiles his three teenage daughters, ano...</td>\n",
       "    </tr>\n",
       "    <tr>\n",
       "      <th>3</th>\n",
       "      <td>b'RT @KaceyKells: KELLCEY \"This story not only...</td>\n",
       "      <td>1389680872937426944</td>\n",
       "      <td>140</td>\n",
       "      <td>2021-05-04 20:38:33</td>\n",
       "      <td>NaN</td>\n",
       "      <td>NaN</td>\n",
       "      <td>en</td>\n",
       "      <td>Twitter Web App</td>\n",
       "      <td>0</td>\n",
       "      <td>10284</td>\n",
       "      <td>b'RT : KELLCEY \"This story not only bears witn...</td>\n",
       "    </tr>\n",
       "    <tr>\n",
       "      <th>4</th>\n",
       "      <td>b'RT @PixelProject: #AFRICA: Abuse of women in...</td>\n",
       "      <td>1389679991621881856</td>\n",
       "      <td>132</td>\n",
       "      <td>2021-05-04 20:35:03</td>\n",
       "      <td>NaN</td>\n",
       "      <td>NaN</td>\n",
       "      <td>en</td>\n",
       "      <td>Twitter Web App</td>\n",
       "      <td>0</td>\n",
       "      <td>1</td>\n",
       "      <td>b'RT : #AFRICA: Abuse of women in IDPs\\n\\nhttp...</td>\n",
       "    </tr>\n",
       "  </tbody>\n",
       "</table>\n",
       "</div>"
      ],
      "text/plain": [
       "                                              Tweets                   id  \\\n",
       "0  b'RT @KaceyKells: KELLCEY \"This story not only...  1389681959329206272   \n",
       "1  b'RT @notice_com_ng: Man defiles his three tee...  1389681326786191362   \n",
       "2  b'Man defiles his three teenage daughters, ano...  1389681304845828100   \n",
       "3  b'RT @KaceyKells: KELLCEY \"This story not only...  1389680872937426944   \n",
       "4  b'RT @PixelProject: #AFRICA: Abuse of women in...  1389679991621881856   \n",
       "\n",
       "   lens                 date place coordinateS lang              source  \\\n",
       "0   140  2021-05-04 20:42:52   NaN         NaN   en  Twitter for iPhone   \n",
       "1   139  2021-05-04 20:40:21   NaN         NaN   en  EndPoliceBrutality   \n",
       "2   169  2021-05-04 20:40:16   NaN         NaN   en       notice.com.ng   \n",
       "3   140  2021-05-04 20:38:33   NaN         NaN   en     Twitter Web App   \n",
       "4   132  2021-05-04 20:35:03   NaN         NaN   en     Twitter Web App   \n",
       "\n",
       "   likes  retweets                                         Tweets_new  \n",
       "0      0     10284  b'RT : KELLCEY \"This story not only bears witn...  \n",
       "1      0         2  b'RT : Man defiles his three teenage daughters...  \n",
       "2      1         2  b'Man defiles his three teenage daughters, ano...  \n",
       "3      0     10284  b'RT : KELLCEY \"This story not only bears witn...  \n",
       "4      0         1  b'RT : #AFRICA: Abuse of women in IDPs\\n\\nhttp...  "
      ]
     },
     "execution_count": 29,
     "metadata": {},
     "output_type": "execute_result"
    }
   ],
   "source": [
    "data.head()"
   ]
  },
  {
   "cell_type": "code",
   "execution_count": 38,
   "metadata": {
    "ExecuteTime": {
     "end_time": "2021-05-08T18:41:49.980073Z",
     "start_time": "2021-05-08T18:41:49.689483Z"
    }
   },
   "outputs": [
    {
     "data": {
      "text/plain": [
       "0    b'RT @KaceyKells: KELLCEY \"This story not only...\n",
       "0    b'RT @DingaBelle: @_snowbunting @Flomoll \\xf0\\...\n",
       "0    b'Duncan Wierman owns #BostonREIA &amp; a memb...\n",
       "0    b'RT @vevopap: \\xce\\x93\\xce\\xb9\\xce\\xb1 \\xcf\\x...\n",
       "0    b\"I've tweeted about police stations for women...\n",
       "Name: Tweets, dtype: object"
      ]
     },
     "execution_count": 38,
     "metadata": {},
     "output_type": "execute_result"
    }
   ],
   "source": [
    "data['Tweets'][0]"
   ]
  },
  {
   "cell_type": "code",
   "execution_count": 37,
   "metadata": {
    "ExecuteTime": {
     "end_time": "2021-05-08T18:40:33.093536Z",
     "start_time": "2021-05-08T18:40:33.050479Z"
    }
   },
   "outputs": [
    {
     "ename": "NameError",
     "evalue": "name 'words' is not defined",
     "output_type": "error",
     "traceback": [
      "\u001b[1;31m---------------------------------------------------------------------------\u001b[0m",
      "\u001b[1;31mNameError\u001b[0m                                 Traceback (most recent call last)",
      "\u001b[1;32m<ipython-input-37-e1ee243651c4>\u001b[0m in \u001b[0;36m<module>\u001b[1;34m()\u001b[0m\n\u001b[0;32m     18\u001b[0m \u001b[1;33m\u001b[0m\u001b[0m\n\u001b[0;32m     19\u001b[0m \u001b[1;31m# apply the function above to clean the tweets column\u001b[0m\u001b[1;33m\u001b[0m\u001b[1;33m\u001b[0m\u001b[0m\n\u001b[1;32m---> 20\u001b[1;33m \u001b[0mdata\u001b[0m\u001b[1;33m[\u001b[0m\u001b[1;34m'ataTweets'\u001b[0m\u001b[1;33m]\u001b[0m \u001b[1;33m=\u001b[0m \u001b[0mdata\u001b[0m\u001b[1;33m[\u001b[0m\u001b[1;34m'Tweets'\u001b[0m\u001b[1;33m]\u001b[0m\u001b[1;33m.\u001b[0m\u001b[0mmap\u001b[0m\u001b[1;33m(\u001b[0m\u001b[1;32mlambda\u001b[0m \u001b[0mx\u001b[0m\u001b[1;33m:\u001b[0m \u001b[0mcleaner\u001b[0m\u001b[1;33m(\u001b[0m\u001b[0mx\u001b[0m\u001b[1;33m)\u001b[0m\u001b[1;33m)\u001b[0m\u001b[1;33m\u001b[0m\u001b[0m\n\u001b[0m",
      "\u001b[1;32m~\\Anaconda3\\lib\\site-packages\\pandas\\core\\series.py\u001b[0m in \u001b[0;36mmap\u001b[1;34m(self, arg, na_action)\u001b[0m\n\u001b[0;32m   3981\u001b[0m         \u001b[0mdtype\u001b[0m\u001b[1;33m:\u001b[0m \u001b[0mobject\u001b[0m\u001b[1;33m\u001b[0m\u001b[0m\n\u001b[0;32m   3982\u001b[0m         \"\"\"\n\u001b[1;32m-> 3983\u001b[1;33m         \u001b[0mnew_values\u001b[0m \u001b[1;33m=\u001b[0m \u001b[0msuper\u001b[0m\u001b[1;33m(\u001b[0m\u001b[1;33m)\u001b[0m\u001b[1;33m.\u001b[0m\u001b[0m_map_values\u001b[0m\u001b[1;33m(\u001b[0m\u001b[0marg\u001b[0m\u001b[1;33m,\u001b[0m \u001b[0mna_action\u001b[0m\u001b[1;33m=\u001b[0m\u001b[0mna_action\u001b[0m\u001b[1;33m)\u001b[0m\u001b[1;33m\u001b[0m\u001b[0m\n\u001b[0m\u001b[0;32m   3984\u001b[0m         return self._constructor(new_values, index=self.index).__finalize__(\n\u001b[0;32m   3985\u001b[0m             \u001b[0mself\u001b[0m\u001b[1;33m,\u001b[0m \u001b[0mmethod\u001b[0m\u001b[1;33m=\u001b[0m\u001b[1;34m\"map\"\u001b[0m\u001b[1;33m\u001b[0m\u001b[0m\n",
      "\u001b[1;32m~\\Anaconda3\\lib\\site-packages\\pandas\\core\\base.py\u001b[0m in \u001b[0;36m_map_values\u001b[1;34m(self, mapper, na_action)\u001b[0m\n\u001b[0;32m   1158\u001b[0m \u001b[1;33m\u001b[0m\u001b[0m\n\u001b[0;32m   1159\u001b[0m         \u001b[1;31m# mapper is a function\u001b[0m\u001b[1;33m\u001b[0m\u001b[1;33m\u001b[0m\u001b[0m\n\u001b[1;32m-> 1160\u001b[1;33m         \u001b[0mnew_values\u001b[0m \u001b[1;33m=\u001b[0m \u001b[0mmap_f\u001b[0m\u001b[1;33m(\u001b[0m\u001b[0mvalues\u001b[0m\u001b[1;33m,\u001b[0m \u001b[0mmapper\u001b[0m\u001b[1;33m)\u001b[0m\u001b[1;33m\u001b[0m\u001b[0m\n\u001b[0m\u001b[0;32m   1161\u001b[0m \u001b[1;33m\u001b[0m\u001b[0m\n\u001b[0;32m   1162\u001b[0m         \u001b[1;32mreturn\u001b[0m \u001b[0mnew_values\u001b[0m\u001b[1;33m\u001b[0m\u001b[0m\n",
      "\u001b[1;32mpandas\\_libs\\lib.pyx\u001b[0m in \u001b[0;36mpandas._libs.lib.map_infer\u001b[1;34m()\u001b[0m\n",
      "\u001b[1;32m<ipython-input-37-e1ee243651c4>\u001b[0m in \u001b[0;36m<lambda>\u001b[1;34m(x)\u001b[0m\n\u001b[0;32m     18\u001b[0m \u001b[1;33m\u001b[0m\u001b[0m\n\u001b[0;32m     19\u001b[0m \u001b[1;31m# apply the function above to clean the tweets column\u001b[0m\u001b[1;33m\u001b[0m\u001b[1;33m\u001b[0m\u001b[0m\n\u001b[1;32m---> 20\u001b[1;33m \u001b[0mdata\u001b[0m\u001b[1;33m[\u001b[0m\u001b[1;34m'ataTweets'\u001b[0m\u001b[1;33m]\u001b[0m \u001b[1;33m=\u001b[0m \u001b[0mdata\u001b[0m\u001b[1;33m[\u001b[0m\u001b[1;34m'Tweets'\u001b[0m\u001b[1;33m]\u001b[0m\u001b[1;33m.\u001b[0m\u001b[0mmap\u001b[0m\u001b[1;33m(\u001b[0m\u001b[1;32mlambda\u001b[0m \u001b[0mx\u001b[0m\u001b[1;33m:\u001b[0m \u001b[0mcleaner\u001b[0m\u001b[1;33m(\u001b[0m\u001b[0mx\u001b[0m\u001b[1;33m)\u001b[0m\u001b[1;33m)\u001b[0m\u001b[1;33m\u001b[0m\u001b[0m\n\u001b[0m",
      "\u001b[1;32m<ipython-input-37-e1ee243651c4>\u001b[0m in \u001b[0;36mcleaner\u001b[1;34m(tweet)\u001b[0m\n\u001b[0;32m     14\u001b[0m \u001b[1;31m#   tweet = tweet.replace(\"#\", \"\").replace(\"_\", \" \")\u001b[0m\u001b[1;33m\u001b[0m\u001b[1;33m\u001b[0m\u001b[0m\n\u001b[0;32m     15\u001b[0m   \u001b[1;31m# tokenize text and convert to lower case and digits\u001b[0m\u001b[1;33m\u001b[0m\u001b[1;33m\u001b[0m\u001b[0m\n\u001b[1;32m---> 16\u001b[1;33m   \u001b[0mtweet\u001b[0m \u001b[1;33m=\u001b[0m \u001b[1;34m\" \"\u001b[0m\u001b[1;33m.\u001b[0m\u001b[0mjoin\u001b[0m\u001b[1;33m(\u001b[0m\u001b[0mw\u001b[0m \u001b[1;32mfor\u001b[0m \u001b[0mw\u001b[0m \u001b[1;32min\u001b[0m \u001b[0mnltk\u001b[0m\u001b[1;33m.\u001b[0m\u001b[0mwordpunct_tokenize\u001b[0m\u001b[1;33m(\u001b[0m\u001b[0mtweet\u001b[0m\u001b[1;33m)\u001b[0m \u001b[1;32mif\u001b[0m \u001b[0mw\u001b[0m\u001b[1;33m.\u001b[0m\u001b[0mlower\u001b[0m\u001b[1;33m(\u001b[0m\u001b[1;33m)\u001b[0m \u001b[1;32min\u001b[0m \u001b[0mwords\u001b[0m \u001b[1;32mor\u001b[0m \u001b[1;32mnot\u001b[0m \u001b[0mw\u001b[0m\u001b[1;33m.\u001b[0m\u001b[0misalpha\u001b[0m\u001b[1;33m(\u001b[0m\u001b[1;33m)\u001b[0m\u001b[1;33m)\u001b[0m\u001b[1;33m\u001b[0m\u001b[0m\n\u001b[0m\u001b[0;32m     17\u001b[0m   \u001b[1;32mreturn\u001b[0m \u001b[0mtweet\u001b[0m\u001b[1;33m\u001b[0m\u001b[0m\n\u001b[0;32m     18\u001b[0m \u001b[1;33m\u001b[0m\u001b[0m\n",
      "\u001b[1;32m<ipython-input-37-e1ee243651c4>\u001b[0m in \u001b[0;36m<genexpr>\u001b[1;34m(.0)\u001b[0m\n\u001b[0;32m     14\u001b[0m \u001b[1;31m#   tweet = tweet.replace(\"#\", \"\").replace(\"_\", \" \")\u001b[0m\u001b[1;33m\u001b[0m\u001b[1;33m\u001b[0m\u001b[0m\n\u001b[0;32m     15\u001b[0m   \u001b[1;31m# tokenize text and convert to lower case and digits\u001b[0m\u001b[1;33m\u001b[0m\u001b[1;33m\u001b[0m\u001b[0m\n\u001b[1;32m---> 16\u001b[1;33m   \u001b[0mtweet\u001b[0m \u001b[1;33m=\u001b[0m \u001b[1;34m\" \"\u001b[0m\u001b[1;33m.\u001b[0m\u001b[0mjoin\u001b[0m\u001b[1;33m(\u001b[0m\u001b[0mw\u001b[0m \u001b[1;32mfor\u001b[0m \u001b[0mw\u001b[0m \u001b[1;32min\u001b[0m \u001b[0mnltk\u001b[0m\u001b[1;33m.\u001b[0m\u001b[0mwordpunct_tokenize\u001b[0m\u001b[1;33m(\u001b[0m\u001b[0mtweet\u001b[0m\u001b[1;33m)\u001b[0m \u001b[1;32mif\u001b[0m \u001b[0mw\u001b[0m\u001b[1;33m.\u001b[0m\u001b[0mlower\u001b[0m\u001b[1;33m(\u001b[0m\u001b[1;33m)\u001b[0m \u001b[1;32min\u001b[0m \u001b[0mwords\u001b[0m \u001b[1;32mor\u001b[0m \u001b[1;32mnot\u001b[0m \u001b[0mw\u001b[0m\u001b[1;33m.\u001b[0m\u001b[0misalpha\u001b[0m\u001b[1;33m(\u001b[0m\u001b[1;33m)\u001b[0m\u001b[1;33m)\u001b[0m\u001b[1;33m\u001b[0m\u001b[0m\n\u001b[0m\u001b[0;32m     17\u001b[0m   \u001b[1;32mreturn\u001b[0m \u001b[0mtweet\u001b[0m\u001b[1;33m\u001b[0m\u001b[0m\n\u001b[0;32m     18\u001b[0m \u001b[1;33m\u001b[0m\u001b[0m\n",
      "\u001b[1;31mNameError\u001b[0m: name 'words' is not defined"
     ]
    }
   ],
   "source": [
    "import emoji\n",
    "import nltk\n",
    "from nltk.corpus import stopwords\n",
    "\n",
    "def cleaner(tweet):\n",
    "  # Remove @ sign\n",
    "  tweet = re.sub(\"@[A-Za-z0-9]+\",\"\",tweet) \n",
    "  # Remove http links\n",
    "  tweet = re.sub(r\"(?:\\@|http?\\://|https?\\://|www)\\S+\", \"\", tweet) \n",
    "  tweet = \" \".join(tweet.split())\n",
    "  # Remove Emojis\n",
    "  tweet = ''.join(c for c in tweet if c not in emoji.UNICODE_EMOJI) \n",
    "  # Remove hashtag sign but keep the text\n",
    "  tweet = tweet.replace(\"#\", \"\").replace(\"_\", \" \") \n",
    "  # tokenize text and convert to lower case and digits\n",
    "  tweet = \" \".join(w for w in nltk.wordpunct_tokenize(tweet) if w.lower() in words or not w.isalpha())\n",
    "  return tweet\n",
    "\n",
    "# apply the function above to clean the tweets column\n",
    "data['ataTweets'] = data['Tweets'].map(lambda x: cleaner(x))"
   ]
  },
  {
   "cell_type": "code",
   "execution_count": null,
   "metadata": {},
   "outputs": [],
   "source": []
  }
 ],
 "metadata": {
  "colab": {
   "name": "dataCollection.ipynb",
   "provenance": []
  },
  "hide_input": false,
  "kernelspec": {
   "display_name": "Python 3",
   "language": "python",
   "name": "python3"
  },
  "language_info": {
   "codemirror_mode": {
    "name": "ipython",
    "version": 3
   },
   "file_extension": ".py",
   "mimetype": "text/x-python",
   "name": "python",
   "nbconvert_exporter": "python",
   "pygments_lexer": "ipython3",
   "version": "3.7.0"
  },
  "toc": {
   "base_numbering": 1,
   "nav_menu": {},
   "number_sections": true,
   "sideBar": true,
   "skip_h1_title": false,
   "title_cell": "Table of Contents",
   "title_sidebar": "Contents",
   "toc_cell": false,
   "toc_position": {},
   "toc_section_display": true,
   "toc_window_display": false
  }
 },
 "nbformat": 4,
 "nbformat_minor": 1
}
