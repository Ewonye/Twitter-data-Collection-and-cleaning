{
 "cells": [
  {
   "cell_type": "code",
   "execution_count": 1,
   "metadata": {
    "ExecuteTime": {
     "end_time": "2021-05-22T19:50:54.317785Z",
     "start_time": "2021-05-22T19:50:43.214075Z"
    }
   },
   "outputs": [],
   "source": [
    "import pandas as pd\n",
    "import numpy as np"
   ]
  },
  {
   "cell_type": "code",
   "execution_count": 2,
   "metadata": {
    "ExecuteTime": {
     "end_time": "2021-05-22T19:50:54.680617Z",
     "start_time": "2021-05-22T19:50:54.327174Z"
    }
   },
   "outputs": [],
   "source": [
    "df=pd.read_csv('#rape_tweets.csv')"
   ]
  },
  {
   "cell_type": "code",
   "execution_count": 3,
   "metadata": {
    "ExecuteTime": {
     "end_time": "2021-05-22T19:50:56.866540Z",
     "start_time": "2021-05-22T19:50:56.726120Z"
    }
   },
   "outputs": [
    {
     "data": {
      "text/html": [
       "<div>\n",
       "<style scoped>\n",
       "    .dataframe tbody tr th:only-of-type {\n",
       "        vertical-align: middle;\n",
       "    }\n",
       "\n",
       "    .dataframe tbody tr th {\n",
       "        vertical-align: top;\n",
       "    }\n",
       "\n",
       "    .dataframe thead th {\n",
       "        text-align: right;\n",
       "    }\n",
       "</style>\n",
       "<table border=\"1\" class=\"dataframe\">\n",
       "  <thead>\n",
       "    <tr style=\"text-align: right;\">\n",
       "      <th></th>\n",
       "      <th>Unnamed: 0</th>\n",
       "      <th>Tweets</th>\n",
       "      <th>id</th>\n",
       "      <th>lens</th>\n",
       "      <th>date</th>\n",
       "      <th>place</th>\n",
       "      <th>coordinateS</th>\n",
       "      <th>lang</th>\n",
       "      <th>source</th>\n",
       "      <th>likes</th>\n",
       "      <th>retweets</th>\n",
       "    </tr>\n",
       "  </thead>\n",
       "  <tbody>\n",
       "    <tr>\n",
       "      <th>0</th>\n",
       "      <td>0</td>\n",
       "      <td>b'RT @KaceyKells: KELLCEY \"This story not only...</td>\n",
       "      <td>1389681959329206272</td>\n",
       "      <td>140</td>\n",
       "      <td>2021-05-04 20:42:52</td>\n",
       "      <td>NaN</td>\n",
       "      <td>NaN</td>\n",
       "      <td>en</td>\n",
       "      <td>Twitter for iPhone</td>\n",
       "      <td>0</td>\n",
       "      <td>10284</td>\n",
       "    </tr>\n",
       "    <tr>\n",
       "      <th>1</th>\n",
       "      <td>1</td>\n",
       "      <td>b'RT @notice_com_ng: Man defiles his three tee...</td>\n",
       "      <td>1389681326786191362</td>\n",
       "      <td>139</td>\n",
       "      <td>2021-05-04 20:40:21</td>\n",
       "      <td>NaN</td>\n",
       "      <td>NaN</td>\n",
       "      <td>en</td>\n",
       "      <td>EndPoliceBrutality</td>\n",
       "      <td>0</td>\n",
       "      <td>2</td>\n",
       "    </tr>\n",
       "    <tr>\n",
       "      <th>2</th>\n",
       "      <td>2</td>\n",
       "      <td>b'Man defiles his three teenage daughters, ano...</td>\n",
       "      <td>1389681304845828100</td>\n",
       "      <td>169</td>\n",
       "      <td>2021-05-04 20:40:16</td>\n",
       "      <td>NaN</td>\n",
       "      <td>NaN</td>\n",
       "      <td>en</td>\n",
       "      <td>notice.com.ng</td>\n",
       "      <td>1</td>\n",
       "      <td>2</td>\n",
       "    </tr>\n",
       "    <tr>\n",
       "      <th>3</th>\n",
       "      <td>3</td>\n",
       "      <td>b'RT @KaceyKells: KELLCEY \"This story not only...</td>\n",
       "      <td>1389680872937426944</td>\n",
       "      <td>140</td>\n",
       "      <td>2021-05-04 20:38:33</td>\n",
       "      <td>NaN</td>\n",
       "      <td>NaN</td>\n",
       "      <td>en</td>\n",
       "      <td>Twitter Web App</td>\n",
       "      <td>0</td>\n",
       "      <td>10284</td>\n",
       "    </tr>\n",
       "    <tr>\n",
       "      <th>4</th>\n",
       "      <td>4</td>\n",
       "      <td>b'RT @PixelProject: #AFRICA: Abuse of women in...</td>\n",
       "      <td>1389679991621881856</td>\n",
       "      <td>132</td>\n",
       "      <td>2021-05-04 20:35:03</td>\n",
       "      <td>NaN</td>\n",
       "      <td>NaN</td>\n",
       "      <td>en</td>\n",
       "      <td>Twitter Web App</td>\n",
       "      <td>0</td>\n",
       "      <td>1</td>\n",
       "    </tr>\n",
       "  </tbody>\n",
       "</table>\n",
       "</div>"
      ],
      "text/plain": [
       "   Unnamed: 0                                             Tweets  \\\n",
       "0           0  b'RT @KaceyKells: KELLCEY \"This story not only...   \n",
       "1           1  b'RT @notice_com_ng: Man defiles his three tee...   \n",
       "2           2  b'Man defiles his three teenage daughters, ano...   \n",
       "3           3  b'RT @KaceyKells: KELLCEY \"This story not only...   \n",
       "4           4  b'RT @PixelProject: #AFRICA: Abuse of women in...   \n",
       "\n",
       "                    id  lens                 date place coordinateS lang  \\\n",
       "0  1389681959329206272   140  2021-05-04 20:42:52   NaN         NaN   en   \n",
       "1  1389681326786191362   139  2021-05-04 20:40:21   NaN         NaN   en   \n",
       "2  1389681304845828100   169  2021-05-04 20:40:16   NaN         NaN   en   \n",
       "3  1389680872937426944   140  2021-05-04 20:38:33   NaN         NaN   en   \n",
       "4  1389679991621881856   132  2021-05-04 20:35:03   NaN         NaN   en   \n",
       "\n",
       "               source  likes  retweets  \n",
       "0  Twitter for iPhone      0     10284  \n",
       "1  EndPoliceBrutality      0         2  \n",
       "2       notice.com.ng      1         2  \n",
       "3     Twitter Web App      0     10284  \n",
       "4     Twitter Web App      0         1  "
      ]
     },
     "execution_count": 3,
     "metadata": {},
     "output_type": "execute_result"
    }
   ],
   "source": [
    "df.head()"
   ]
  },
  {
   "cell_type": "code",
   "execution_count": 5,
   "metadata": {
    "ExecuteTime": {
     "end_time": "2021-05-22T19:51:37.090720Z",
     "start_time": "2021-05-22T19:51:37.079380Z"
    }
   },
   "outputs": [
    {
     "data": {
      "text/plain": [
       "154"
      ]
     },
     "execution_count": 5,
     "metadata": {},
     "output_type": "execute_result"
    }
   ],
   "source": [
    "len(df['Tweets'][0])"
   ]
  },
  {
   "cell_type": "code",
   "execution_count": 6,
   "metadata": {
    "ExecuteTime": {
     "end_time": "2021-05-22T19:51:55.059437Z",
     "start_time": "2021-05-22T19:51:54.984292Z"
    }
   },
   "outputs": [],
   "source": [
    "df1=pd.read_csv('#GBV_tweets.csv')"
   ]
  },
  {
   "cell_type": "code",
   "execution_count": 7,
   "metadata": {
    "ExecuteTime": {
     "end_time": "2021-05-22T19:51:55.500264Z",
     "start_time": "2021-05-22T19:51:55.376509Z"
    }
   },
   "outputs": [],
   "source": [
    "df2=pd.read_csv('#sexism_tweets.csv')"
   ]
  },
  {
   "cell_type": "code",
   "execution_count": 8,
   "metadata": {
    "ExecuteTime": {
     "end_time": "2021-05-22T19:51:56.110212Z",
     "start_time": "2021-05-22T19:51:55.758482Z"
    }
   },
   "outputs": [],
   "source": [
    "df3=pd.read_csv('_metoo_tweets.csv')"
   ]
  },
  {
   "cell_type": "code",
   "execution_count": 9,
   "metadata": {
    "ExecuteTime": {
     "end_time": "2021-05-22T19:51:56.167116Z",
     "start_time": "2021-05-22T19:51:56.112948Z"
    }
   },
   "outputs": [],
   "source": [
    "df4=pd.read_csv('_domesticviolence_tweets.csv')"
   ]
  },
  {
   "cell_type": "code",
   "execution_count": 10,
   "metadata": {
    "ExecuteTime": {
     "end_time": "2021-05-22T19:51:56.625939Z",
     "start_time": "2021-05-22T19:51:56.554093Z"
    }
   },
   "outputs": [],
   "source": [
    "data=pd.concat([df,df1,df2,df3,df4])"
   ]
  },
  {
   "cell_type": "code",
   "execution_count": 11,
   "metadata": {
    "ExecuteTime": {
     "end_time": "2021-05-22T19:51:56.875324Z",
     "start_time": "2021-05-22T19:51:56.865234Z"
    }
   },
   "outputs": [
    {
     "data": {
      "text/plain": [
       "(61355, 11)"
      ]
     },
     "execution_count": 11,
     "metadata": {},
     "output_type": "execute_result"
    }
   ],
   "source": [
    "data.shape"
   ]
  },
  {
   "cell_type": "code",
   "execution_count": 12,
   "metadata": {
    "ExecuteTime": {
     "end_time": "2021-05-22T19:51:57.320468Z",
     "start_time": "2021-05-22T19:51:57.288296Z"
    },
    "scrolled": true
   },
   "outputs": [
    {
     "data": {
      "text/html": [
       "<div>\n",
       "<style scoped>\n",
       "    .dataframe tbody tr th:only-of-type {\n",
       "        vertical-align: middle;\n",
       "    }\n",
       "\n",
       "    .dataframe tbody tr th {\n",
       "        vertical-align: top;\n",
       "    }\n",
       "\n",
       "    .dataframe thead th {\n",
       "        text-align: right;\n",
       "    }\n",
       "</style>\n",
       "<table border=\"1\" class=\"dataframe\">\n",
       "  <thead>\n",
       "    <tr style=\"text-align: right;\">\n",
       "      <th></th>\n",
       "      <th>Unnamed: 0</th>\n",
       "      <th>Tweets</th>\n",
       "      <th>id</th>\n",
       "      <th>lens</th>\n",
       "      <th>date</th>\n",
       "      <th>place</th>\n",
       "      <th>coordinateS</th>\n",
       "      <th>lang</th>\n",
       "      <th>source</th>\n",
       "      <th>likes</th>\n",
       "      <th>retweets</th>\n",
       "    </tr>\n",
       "  </thead>\n",
       "  <tbody>\n",
       "    <tr>\n",
       "      <th>0</th>\n",
       "      <td>0</td>\n",
       "      <td>b'RT @KaceyKells: KELLCEY \"This story not only...</td>\n",
       "      <td>1389681959329206272</td>\n",
       "      <td>140</td>\n",
       "      <td>2021-05-04 20:42:52</td>\n",
       "      <td>NaN</td>\n",
       "      <td>NaN</td>\n",
       "      <td>en</td>\n",
       "      <td>Twitter for iPhone</td>\n",
       "      <td>0</td>\n",
       "      <td>10284</td>\n",
       "    </tr>\n",
       "    <tr>\n",
       "      <th>1</th>\n",
       "      <td>1</td>\n",
       "      <td>b'RT @notice_com_ng: Man defiles his three tee...</td>\n",
       "      <td>1389681326786191362</td>\n",
       "      <td>139</td>\n",
       "      <td>2021-05-04 20:40:21</td>\n",
       "      <td>NaN</td>\n",
       "      <td>NaN</td>\n",
       "      <td>en</td>\n",
       "      <td>EndPoliceBrutality</td>\n",
       "      <td>0</td>\n",
       "      <td>2</td>\n",
       "    </tr>\n",
       "    <tr>\n",
       "      <th>2</th>\n",
       "      <td>2</td>\n",
       "      <td>b'Man defiles his three teenage daughters, ano...</td>\n",
       "      <td>1389681304845828100</td>\n",
       "      <td>169</td>\n",
       "      <td>2021-05-04 20:40:16</td>\n",
       "      <td>NaN</td>\n",
       "      <td>NaN</td>\n",
       "      <td>en</td>\n",
       "      <td>notice.com.ng</td>\n",
       "      <td>1</td>\n",
       "      <td>2</td>\n",
       "    </tr>\n",
       "    <tr>\n",
       "      <th>3</th>\n",
       "      <td>3</td>\n",
       "      <td>b'RT @KaceyKells: KELLCEY \"This story not only...</td>\n",
       "      <td>1389680872937426944</td>\n",
       "      <td>140</td>\n",
       "      <td>2021-05-04 20:38:33</td>\n",
       "      <td>NaN</td>\n",
       "      <td>NaN</td>\n",
       "      <td>en</td>\n",
       "      <td>Twitter Web App</td>\n",
       "      <td>0</td>\n",
       "      <td>10284</td>\n",
       "    </tr>\n",
       "    <tr>\n",
       "      <th>4</th>\n",
       "      <td>4</td>\n",
       "      <td>b'RT @PixelProject: #AFRICA: Abuse of women in...</td>\n",
       "      <td>1389679991621881856</td>\n",
       "      <td>132</td>\n",
       "      <td>2021-05-04 20:35:03</td>\n",
       "      <td>NaN</td>\n",
       "      <td>NaN</td>\n",
       "      <td>en</td>\n",
       "      <td>Twitter Web App</td>\n",
       "      <td>0</td>\n",
       "      <td>1</td>\n",
       "    </tr>\n",
       "  </tbody>\n",
       "</table>\n",
       "</div>"
      ],
      "text/plain": [
       "   Unnamed: 0                                             Tweets  \\\n",
       "0           0  b'RT @KaceyKells: KELLCEY \"This story not only...   \n",
       "1           1  b'RT @notice_com_ng: Man defiles his three tee...   \n",
       "2           2  b'Man defiles his three teenage daughters, ano...   \n",
       "3           3  b'RT @KaceyKells: KELLCEY \"This story not only...   \n",
       "4           4  b'RT @PixelProject: #AFRICA: Abuse of women in...   \n",
       "\n",
       "                    id  lens                 date place coordinateS lang  \\\n",
       "0  1389681959329206272   140  2021-05-04 20:42:52   NaN         NaN   en   \n",
       "1  1389681326786191362   139  2021-05-04 20:40:21   NaN         NaN   en   \n",
       "2  1389681304845828100   169  2021-05-04 20:40:16   NaN         NaN   en   \n",
       "3  1389680872937426944   140  2021-05-04 20:38:33   NaN         NaN   en   \n",
       "4  1389679991621881856   132  2021-05-04 20:35:03   NaN         NaN   en   \n",
       "\n",
       "               source  likes  retweets  \n",
       "0  Twitter for iPhone      0     10284  \n",
       "1  EndPoliceBrutality      0         2  \n",
       "2       notice.com.ng      1         2  \n",
       "3     Twitter Web App      0     10284  \n",
       "4     Twitter Web App      0         1  "
      ]
     },
     "execution_count": 12,
     "metadata": {},
     "output_type": "execute_result"
    }
   ],
   "source": [
    "data.head()"
   ]
  },
  {
   "cell_type": "code",
   "execution_count": 13,
   "metadata": {
    "ExecuteTime": {
     "end_time": "2021-05-22T19:51:58.039098Z",
     "start_time": "2021-05-22T19:51:58.023403Z"
    },
    "scrolled": true
   },
   "outputs": [],
   "source": [
    "# !pip install words"
   ]
  },
  {
   "cell_type": "code",
   "execution_count": 14,
   "metadata": {
    "ExecuteTime": {
     "end_time": "2021-05-22T19:52:37.037464Z",
     "start_time": "2021-05-22T19:51:58.292905Z"
    }
   },
   "outputs": [],
   "source": [
    "import re\n",
    "import emoji\n",
    "import nltk\n",
    "def cleaner(tweet):\n",
    "  # Remove @ sign\n",
    "  tweet = re.sub(\"@[A-Za-z0-9]+\",\"\",tweet) \n",
    "  # Remove http links\n",
    "  tweet = re.sub(r\"(?:\\@|http?\\://|https?\\://|www)\\S+\", \"\", tweet) \n",
    "  tweet = \" \".join(tweet.split())\n",
    "  # Remove Emojis\n",
    "  tweet = ''.join(c for c in tweet if c not in emoji.UNICODE_EMOJI) \n",
    "  # Remove hashtag sign but keep the text\n",
    "  tweet = tweet.replace(\"#\", \"\").replace(\"_\", \" \") \n",
    "  # tokenize text and convert to lower case and digits\n",
    "  tweet = \" \".join(w for w in nltk.wordpunct_tokenize(tweet) if w.lower() in w or not w.isalpha())\n",
    "  return tweet\n",
    "\n",
    "# apply the function above to clean the tweets column\n",
    "data['New_Tweets'] = data['Tweets'].map(lambda x: cleaner(x))"
   ]
  },
  {
   "cell_type": "code",
   "execution_count": 15,
   "metadata": {
    "ExecuteTime": {
     "end_time": "2021-05-22T19:52:37.074893Z",
     "start_time": "2021-05-22T19:52:37.042459Z"
    },
    "scrolled": true
   },
   "outputs": [
    {
     "data": {
      "text/html": [
       "<div>\n",
       "<style scoped>\n",
       "    .dataframe tbody tr th:only-of-type {\n",
       "        vertical-align: middle;\n",
       "    }\n",
       "\n",
       "    .dataframe tbody tr th {\n",
       "        vertical-align: top;\n",
       "    }\n",
       "\n",
       "    .dataframe thead th {\n",
       "        text-align: right;\n",
       "    }\n",
       "</style>\n",
       "<table border=\"1\" class=\"dataframe\">\n",
       "  <thead>\n",
       "    <tr style=\"text-align: right;\">\n",
       "      <th></th>\n",
       "      <th>Unnamed: 0</th>\n",
       "      <th>Tweets</th>\n",
       "      <th>id</th>\n",
       "      <th>lens</th>\n",
       "      <th>date</th>\n",
       "      <th>place</th>\n",
       "      <th>coordinateS</th>\n",
       "      <th>lang</th>\n",
       "      <th>source</th>\n",
       "      <th>likes</th>\n",
       "      <th>retweets</th>\n",
       "      <th>New_Tweets</th>\n",
       "    </tr>\n",
       "  </thead>\n",
       "  <tbody>\n",
       "    <tr>\n",
       "      <th>0</th>\n",
       "      <td>0</td>\n",
       "      <td>b'RT @KaceyKells: KELLCEY \"This story not only...</td>\n",
       "      <td>1389681959329206272</td>\n",
       "      <td>140</td>\n",
       "      <td>2021-05-04 20:42:52</td>\n",
       "      <td>NaN</td>\n",
       "      <td>NaN</td>\n",
       "      <td>en</td>\n",
       "      <td>Twitter for iPhone</td>\n",
       "      <td>0</td>\n",
       "      <td>10284</td>\n",
       "      <td>b ' : \" story not only bears witness to what c...</td>\n",
       "    </tr>\n",
       "    <tr>\n",
       "      <th>1</th>\n",
       "      <td>1</td>\n",
       "      <td>b'RT @notice_com_ng: Man defiles his three tee...</td>\n",
       "      <td>1389681326786191362</td>\n",
       "      <td>139</td>\n",
       "      <td>2021-05-04 20:40:21</td>\n",
       "      <td>NaN</td>\n",
       "      <td>NaN</td>\n",
       "      <td>en</td>\n",
       "      <td>EndPoliceBrutality</td>\n",
       "      <td>0</td>\n",
       "      <td>2</td>\n",
       "      <td>b ' com ng : defiles his three teenage daughte...</td>\n",
       "    </tr>\n",
       "    <tr>\n",
       "      <th>2</th>\n",
       "      <td>2</td>\n",
       "      <td>b'Man defiles his three teenage daughters, ano...</td>\n",
       "      <td>1389681304845828100</td>\n",
       "      <td>169</td>\n",
       "      <td>2021-05-04 20:40:16</td>\n",
       "      <td>NaN</td>\n",
       "      <td>NaN</td>\n",
       "      <td>en</td>\n",
       "      <td>notice.com.ng</td>\n",
       "      <td>1</td>\n",
       "      <td>2</td>\n",
       "      <td>b ' defiles his three teenage daughters , anot...</td>\n",
       "    </tr>\n",
       "    <tr>\n",
       "      <th>3</th>\n",
       "      <td>3</td>\n",
       "      <td>b'RT @KaceyKells: KELLCEY \"This story not only...</td>\n",
       "      <td>1389680872937426944</td>\n",
       "      <td>140</td>\n",
       "      <td>2021-05-04 20:38:33</td>\n",
       "      <td>NaN</td>\n",
       "      <td>NaN</td>\n",
       "      <td>en</td>\n",
       "      <td>Twitter Web App</td>\n",
       "      <td>0</td>\n",
       "      <td>10284</td>\n",
       "      <td>b ' : \" story not only bears witness to what c...</td>\n",
       "    </tr>\n",
       "    <tr>\n",
       "      <th>4</th>\n",
       "      <td>4</td>\n",
       "      <td>b'RT @PixelProject: #AFRICA: Abuse of women in...</td>\n",
       "      <td>1389679991621881856</td>\n",
       "      <td>132</td>\n",
       "      <td>2021-05-04 20:35:03</td>\n",
       "      <td>NaN</td>\n",
       "      <td>NaN</td>\n",
       "      <td>en</td>\n",
       "      <td>Twitter Web App</td>\n",
       "      <td>0</td>\n",
       "      <td>1</td>\n",
       "      <td>b ' : : of women in \\ n \\ n '</td>\n",
       "    </tr>\n",
       "  </tbody>\n",
       "</table>\n",
       "</div>"
      ],
      "text/plain": [
       "   Unnamed: 0                                             Tweets  \\\n",
       "0           0  b'RT @KaceyKells: KELLCEY \"This story not only...   \n",
       "1           1  b'RT @notice_com_ng: Man defiles his three tee...   \n",
       "2           2  b'Man defiles his three teenage daughters, ano...   \n",
       "3           3  b'RT @KaceyKells: KELLCEY \"This story not only...   \n",
       "4           4  b'RT @PixelProject: #AFRICA: Abuse of women in...   \n",
       "\n",
       "                    id  lens                 date place coordinateS lang  \\\n",
       "0  1389681959329206272   140  2021-05-04 20:42:52   NaN         NaN   en   \n",
       "1  1389681326786191362   139  2021-05-04 20:40:21   NaN         NaN   en   \n",
       "2  1389681304845828100   169  2021-05-04 20:40:16   NaN         NaN   en   \n",
       "3  1389680872937426944   140  2021-05-04 20:38:33   NaN         NaN   en   \n",
       "4  1389679991621881856   132  2021-05-04 20:35:03   NaN         NaN   en   \n",
       "\n",
       "               source  likes  retweets  \\\n",
       "0  Twitter for iPhone      0     10284   \n",
       "1  EndPoliceBrutality      0         2   \n",
       "2       notice.com.ng      1         2   \n",
       "3     Twitter Web App      0     10284   \n",
       "4     Twitter Web App      0         1   \n",
       "\n",
       "                                          New_Tweets  \n",
       "0  b ' : \" story not only bears witness to what c...  \n",
       "1  b ' com ng : defiles his three teenage daughte...  \n",
       "2  b ' defiles his three teenage daughters , anot...  \n",
       "3  b ' : \" story not only bears witness to what c...  \n",
       "4                      b ' : : of women in \\ n \\ n '  "
      ]
     },
     "execution_count": 15,
     "metadata": {},
     "output_type": "execute_result"
    }
   ],
   "source": [
    "data.head()"
   ]
  },
  {
   "cell_type": "code",
   "execution_count": 16,
   "metadata": {
    "ExecuteTime": {
     "end_time": "2021-05-22T19:52:37.166836Z",
     "start_time": "2021-05-22T19:52:37.081125Z"
    }
   },
   "outputs": [
    {
     "data": {
      "text/plain": [
       "Index(['Unnamed: 0', 'Tweets', 'id', 'lens', 'date', 'place', 'coordinateS',\n",
       "       'lang', 'source', 'likes', 'retweets', 'New_Tweets'],\n",
       "      dtype='object')"
      ]
     },
     "execution_count": 16,
     "metadata": {},
     "output_type": "execute_result"
    }
   ],
   "source": [
    "data.columns"
   ]
  },
  {
   "cell_type": "code",
   "execution_count": 17,
   "metadata": {
    "ExecuteTime": {
     "end_time": "2021-05-22T19:52:37.367077Z",
     "start_time": "2021-05-22T19:52:37.172837Z"
    }
   },
   "outputs": [],
   "source": [
    "del data['Unnamed: 0']"
   ]
  },
  {
   "cell_type": "code",
   "execution_count": 18,
   "metadata": {
    "ExecuteTime": {
     "end_time": "2021-05-22T19:52:37.548193Z",
     "start_time": "2021-05-22T19:52:37.380165Z"
    }
   },
   "outputs": [
    {
     "data": {
      "text/html": [
       "<div>\n",
       "<style scoped>\n",
       "    .dataframe tbody tr th:only-of-type {\n",
       "        vertical-align: middle;\n",
       "    }\n",
       "\n",
       "    .dataframe tbody tr th {\n",
       "        vertical-align: top;\n",
       "    }\n",
       "\n",
       "    .dataframe thead th {\n",
       "        text-align: right;\n",
       "    }\n",
       "</style>\n",
       "<table border=\"1\" class=\"dataframe\">\n",
       "  <thead>\n",
       "    <tr style=\"text-align: right;\">\n",
       "      <th></th>\n",
       "      <th>Tweets</th>\n",
       "      <th>id</th>\n",
       "      <th>lens</th>\n",
       "      <th>date</th>\n",
       "      <th>place</th>\n",
       "      <th>coordinateS</th>\n",
       "      <th>lang</th>\n",
       "      <th>source</th>\n",
       "      <th>likes</th>\n",
       "      <th>retweets</th>\n",
       "      <th>New_Tweets</th>\n",
       "    </tr>\n",
       "  </thead>\n",
       "  <tbody>\n",
       "    <tr>\n",
       "      <th>0</th>\n",
       "      <td>b'RT @KaceyKells: KELLCEY \"This story not only...</td>\n",
       "      <td>1389681959329206272</td>\n",
       "      <td>140</td>\n",
       "      <td>2021-05-04 20:42:52</td>\n",
       "      <td>NaN</td>\n",
       "      <td>NaN</td>\n",
       "      <td>en</td>\n",
       "      <td>Twitter for iPhone</td>\n",
       "      <td>0</td>\n",
       "      <td>10284</td>\n",
       "      <td>b ' : \" story not only bears witness to what c...</td>\n",
       "    </tr>\n",
       "    <tr>\n",
       "      <th>1</th>\n",
       "      <td>b'RT @notice_com_ng: Man defiles his three tee...</td>\n",
       "      <td>1389681326786191362</td>\n",
       "      <td>139</td>\n",
       "      <td>2021-05-04 20:40:21</td>\n",
       "      <td>NaN</td>\n",
       "      <td>NaN</td>\n",
       "      <td>en</td>\n",
       "      <td>EndPoliceBrutality</td>\n",
       "      <td>0</td>\n",
       "      <td>2</td>\n",
       "      <td>b ' com ng : defiles his three teenage daughte...</td>\n",
       "    </tr>\n",
       "    <tr>\n",
       "      <th>2</th>\n",
       "      <td>b'Man defiles his three teenage daughters, ano...</td>\n",
       "      <td>1389681304845828100</td>\n",
       "      <td>169</td>\n",
       "      <td>2021-05-04 20:40:16</td>\n",
       "      <td>NaN</td>\n",
       "      <td>NaN</td>\n",
       "      <td>en</td>\n",
       "      <td>notice.com.ng</td>\n",
       "      <td>1</td>\n",
       "      <td>2</td>\n",
       "      <td>b ' defiles his three teenage daughters , anot...</td>\n",
       "    </tr>\n",
       "    <tr>\n",
       "      <th>3</th>\n",
       "      <td>b'RT @KaceyKells: KELLCEY \"This story not only...</td>\n",
       "      <td>1389680872937426944</td>\n",
       "      <td>140</td>\n",
       "      <td>2021-05-04 20:38:33</td>\n",
       "      <td>NaN</td>\n",
       "      <td>NaN</td>\n",
       "      <td>en</td>\n",
       "      <td>Twitter Web App</td>\n",
       "      <td>0</td>\n",
       "      <td>10284</td>\n",
       "      <td>b ' : \" story not only bears witness to what c...</td>\n",
       "    </tr>\n",
       "    <tr>\n",
       "      <th>4</th>\n",
       "      <td>b'RT @PixelProject: #AFRICA: Abuse of women in...</td>\n",
       "      <td>1389679991621881856</td>\n",
       "      <td>132</td>\n",
       "      <td>2021-05-04 20:35:03</td>\n",
       "      <td>NaN</td>\n",
       "      <td>NaN</td>\n",
       "      <td>en</td>\n",
       "      <td>Twitter Web App</td>\n",
       "      <td>0</td>\n",
       "      <td>1</td>\n",
       "      <td>b ' : : of women in \\ n \\ n '</td>\n",
       "    </tr>\n",
       "  </tbody>\n",
       "</table>\n",
       "</div>"
      ],
      "text/plain": [
       "                                              Tweets                   id  \\\n",
       "0  b'RT @KaceyKells: KELLCEY \"This story not only...  1389681959329206272   \n",
       "1  b'RT @notice_com_ng: Man defiles his three tee...  1389681326786191362   \n",
       "2  b'Man defiles his three teenage daughters, ano...  1389681304845828100   \n",
       "3  b'RT @KaceyKells: KELLCEY \"This story not only...  1389680872937426944   \n",
       "4  b'RT @PixelProject: #AFRICA: Abuse of women in...  1389679991621881856   \n",
       "\n",
       "   lens                 date place coordinateS lang              source  \\\n",
       "0   140  2021-05-04 20:42:52   NaN         NaN   en  Twitter for iPhone   \n",
       "1   139  2021-05-04 20:40:21   NaN         NaN   en  EndPoliceBrutality   \n",
       "2   169  2021-05-04 20:40:16   NaN         NaN   en       notice.com.ng   \n",
       "3   140  2021-05-04 20:38:33   NaN         NaN   en     Twitter Web App   \n",
       "4   132  2021-05-04 20:35:03   NaN         NaN   en     Twitter Web App   \n",
       "\n",
       "   likes  retweets                                         New_Tweets  \n",
       "0      0     10284  b ' : \" story not only bears witness to what c...  \n",
       "1      0         2  b ' com ng : defiles his three teenage daughte...  \n",
       "2      1         2  b ' defiles his three teenage daughters , anot...  \n",
       "3      0     10284  b ' : \" story not only bears witness to what c...  \n",
       "4      0         1                      b ' : : of women in \\ n \\ n '  "
      ]
     },
     "execution_count": 18,
     "metadata": {},
     "output_type": "execute_result"
    }
   ],
   "source": [
    "data.head()"
   ]
  },
  {
   "cell_type": "code",
   "execution_count": 19,
   "metadata": {
    "ExecuteTime": {
     "end_time": "2021-05-22T19:52:37.650014Z",
     "start_time": "2021-05-22T19:52:37.551821Z"
    }
   },
   "outputs": [
    {
     "data": {
      "text/plain": [
       "60860"
      ]
     },
     "execution_count": 19,
     "metadata": {},
     "output_type": "execute_result"
    }
   ],
   "source": [
    "data['place'].isnull().sum()"
   ]
  },
  {
   "cell_type": "code",
   "execution_count": 20,
   "metadata": {
    "ExecuteTime": {
     "end_time": "2021-05-22T19:52:37.839412Z",
     "start_time": "2021-05-22T19:52:37.652072Z"
    }
   },
   "outputs": [
    {
     "data": {
      "text/plain": [
       "nan"
      ]
     },
     "execution_count": 20,
     "metadata": {},
     "output_type": "execute_result"
    }
   ],
   "source": [
    "data['place'][8000]"
   ]
  },
  {
   "cell_type": "code",
   "execution_count": 21,
   "metadata": {
    "ExecuteTime": {
     "end_time": "2021-05-22T19:52:39.605882Z",
     "start_time": "2021-05-22T19:52:37.848938Z"
    }
   },
   "outputs": [],
   "source": [
    "data.to_csv('data.csv')"
   ]
  },
  {
   "cell_type": "code",
   "execution_count": 22,
   "metadata": {
    "ExecuteTime": {
     "end_time": "2021-05-22T19:52:39.626778Z",
     "start_time": "2021-05-22T19:52:39.611013Z"
    }
   },
   "outputs": [
    {
     "data": {
      "text/plain": [
       "nan"
      ]
     },
     "execution_count": 22,
     "metadata": {},
     "output_type": "execute_result"
    }
   ],
   "source": [
    "df['place'][0]"
   ]
  },
  {
   "cell_type": "code",
   "execution_count": 23,
   "metadata": {
    "ExecuteTime": {
     "end_time": "2021-05-22T19:52:39.770664Z",
     "start_time": "2021-05-22T19:52:39.631620Z"
    }
   },
   "outputs": [
    {
     "data": {
      "text/plain": [
       "[nan,\n",
       " \"Place(_api=<tweepy.api.API object at 0x00000223FDB1F470>, id='4c6bf2b7c14c8f88', url='https://api.twitter.com/1.1/geo/id/4c6bf2b7c14c8f88.json', place_type='admin', name='Maharashtra', full_name='Maharashtra, India', country_code='IN', country='India', contained_within=[], bounding_box=BoundingBox(_api=<tweepy.api.API object at 0x00000223FDB1F470>, type='Polygon', coordinates=[[[72.64293, 15.606794], [80.899558, 15.606794], [80.899558, 22.029028], [72.64293, 22.029028]]]), attributes={})\",\n",
       " \"Place(_api=<tweepy.api.API object at 0x00000223FDB1F470>, id='4a00f902bee39847', url='https://api.twitter.com/1.1/geo/id/4a00f902bee39847.json', place_type='city', name='Indore', full_name='Indore, India', country_code='IN', country='India', contained_within=[], bounding_box=BoundingBox(_api=<tweepy.api.API object at 0x00000223FDB1F470>, type='Polygon', coordinates=[[[75.690789, 22.525584], [76.245579, 22.525584], [76.245579, 22.817381], [75.690789, 22.817381]]]), attributes={})\",\n",
       " \"Place(_api=<tweepy.api.API object at 0x00000223FDB1F470>, id='7929cea6bd5b32bd', url='https://api.twitter.com/1.1/geo/id/7929cea6bd5b32bd.json', place_type='city', name='Mumbai', full_name='Mumbai, India', country_code='IN', country='India', contained_within=[], bounding_box=BoundingBox(_api=<tweepy.api.API object at 0x00000223FDB1F470>, type='Polygon', coordinates=[[[72.74484, 18.845343], [73.003648, 18.845343], [73.003648, 19.502937], [72.74484, 19.502937]]]), attributes={})\",\n",
       " \"Place(_api=<tweepy.api.API object at 0x00000223FDB1F470>, id='05d4ae94d9d30b3b', url='https://api.twitter.com/1.1/geo/id/05d4ae94d9d30b3b.json', place_type='city', name='Guwahati', full_name='Guwahati, India', country_code='IN', country='India', contained_within=[], bounding_box=BoundingBox(_api=<tweepy.api.API object at 0x00000223FDB1F470>, type='Polygon', coordinates=[[[90.939097, 25.722728], [92.180418, 25.722728], [92.180418, 26.796614], [90.939097, 26.796614]]]), attributes={})\",\n",
       " \"Place(_api=<tweepy.api.API object at 0x00000223FDB1F470>, id='01c46739344ba9f6', url='https://api.twitter.com/1.1/geo/id/01c46739344ba9f6.json', place_type='admin', name='Federal Capital Territory', full_name='Federal Capital Territory, Nigeria', country_code='NG', country='Nigeria', contained_within=[], bounding_box=BoundingBox(_api=<tweepy.api.API object at 0x00000223FDB1F470>, type='Polygon', coordinates=[[[6.7786135, 8.4504401], [7.7274781, 8.4504401], [7.7274781, 9.4345273], [6.7786135, 9.4345273]]]), attributes={})\",\n",
       " \"Place(_api=<tweepy.api.API object at 0x00000223FDB1F470>, id='00e55e2b4c491c5f', url='https://api.twitter.com/1.1/geo/id/00e55e2b4c491c5f.json', place_type='city', name='Abuja', full_name='Abuja, Nigeria', country_code='NG', country='Nigeria', contained_within=[], bounding_box=BoundingBox(_api=<tweepy.api.API object at 0x00000223FDB1F470>, type='Polygon', coordinates=[[[7.3045544, 8.961887], [7.5436339, 8.961887], [7.5436339, 9.1854407], [7.3045544, 9.1854407]]]), attributes={})\",\n",
       " \"Place(_api=<tweepy.api.API object at 0x00000223FDB1F470>, id='511655fc081bb251', url='https://api.twitter.com/1.1/geo/id/511655fc081bb251.json', place_type='city', name='Portsmouth', full_name='Portsmouth, England', country_code='GB', country='United Kingdom', contained_within=[], bounding_box=BoundingBox(_api=<tweepy.api.API object at 0x00000223FDB1F470>, type='Polygon', coordinates=[[[-1.117912, 50.778429], [-1.0160589, 50.778429], [-1.0160589, 50.8593], [-1.117912, 50.8593]]]), attributes={})\",\n",
       " \"Place(_api=<tweepy.api.API object at 0x00000223FDB1F470>, id='005dbe7e6949db42', url='https://api.twitter.com/1.1/geo/id/005dbe7e6949db42.json', place_type='city', name='Benin-City', full_name='Benin-City, Nigeria', country_code='NG', country='Nigeria', contained_within=[], bounding_box=BoundingBox(_api=<tweepy.api.API object at 0x00000223FDB1F470>, type='Polygon', coordinates=[[[5.5532952, 6.2445092], [5.7292806, 6.2445092], [5.7292806, 6.4254003], [5.5532952, 6.4254003]]]), attributes={})\",\n",
       " \"Place(_api=<tweepy.api.API object at 0x00000223FDB1F470>, id='011a942e0a0e8fb2', url='https://api.twitter.com/1.1/geo/id/011a942e0a0e8fb2.json', place_type='admin', name='Lagos', full_name='Lagos, Nigeria', country_code='NG', country='Nigeria', contained_within=[], bounding_box=BoundingBox(_api=<tweepy.api.API object at 0x00000223FDB1F470>, type='Polygon', coordinates=[[[2.7063037, 6.3703877], [4.350022, 6.3703877], [4.350022, 6.6985461], [2.7063037, 6.6985461]]]), attributes={})\",\n",
       " \"Place(_api=<tweepy.api.API object at 0x00000223FDB1F470>, id='7519d5ef0b317d8f', url='https://api.twitter.com/1.1/geo/id/7519d5ef0b317d8f.json', place_type='city', name='Varanasi', full_name='Varanasi, India', country_code='IN', country='India', contained_within=[], bounding_box=BoundingBox(_api=<tweepy.api.API object at 0x00000223FDB1F470>, type='Polygon', coordinates=[[[82.671054, 25.166781], [83.194857, 25.166781], [83.194857, 25.57997], [82.671054, 25.57997]]]), attributes={})\",\n",
       " \"Place(_api=<tweepy.api.API object at 0x00000223FDB1F470>, id='01eddd9d0dbec2c8', url='https://api.twitter.com/1.1/geo/id/01eddd9d0dbec2c8.json', place_type='city', name='Ikeja', full_name='Ikeja, Nigeria', country_code='NG', country='Nigeria', contained_within=[], bounding_box=BoundingBox(_api=<tweepy.api.API object at 0x00000223FDB1F470>, type='Polygon', coordinates=[[[3.198942, 6.4826762], [3.43719, 6.4826762], [3.43719, 6.6985461], [3.198942, 6.6985461]]]), attributes={})\",\n",
       " \"Place(_api=<tweepy.api.API object at 0x00000223FDB1F470>, id='006268ad653506e5', url='https://api.twitter.com/1.1/geo/id/006268ad653506e5.json', place_type='admin', name='Osun', full_name='Osun, Nigeria', country_code='NG', country='Nigeria', contained_within=[], bounding_box=BoundingBox(_api=<tweepy.api.API object at 0x00000223FDB1F470>, type='Polygon', coordinates=[[[4.0274778, 6.9780072], [5.0845742, 6.9780072], [5.0845742, 8.1110107], [4.0274778, 8.1110107]]]), attributes={})\",\n",
       " \"Place(_api=<tweepy.api.API object at 0x00000223FDB1F470>, id='5ccdc4a6f900a93f', url='https://api.twitter.com/1.1/geo/id/5ccdc4a6f900a93f.json', place_type='city', name='Milnerton', full_name='Milnerton, South Africa', country_code='ZA', country='South Africa', contained_within=[], bounding_box=BoundingBox(_api=<tweepy.api.API object at 0x00000223FDB1F470>, type='Polygon', coordinates=[[[18.4350199, -33.9208993], [18.5572133, -33.9208993], [18.5572133, -33.7259229], [18.4350199, -33.7259229]]]), attributes={})\",\n",
       " \"Place(_api=<tweepy.api.API object at 0x00000223FDB1F470>, id='dd9c503d6c35364b', url='https://api.twitter.com/1.1/geo/id/dd9c503d6c35364b.json', place_type='admin', name='Pennsylvania', full_name='Pennsylvania, USA', country_code='US', country='United States', contained_within=[], bounding_box=BoundingBox(_api=<tweepy.api.API object at 0x00000223FDB1F470>, type='Polygon', coordinates=[[[-80.519851, 39.719801], [-74.689517, 39.719801], [-74.689517, 42.516072], [-80.519851, 42.516072]]]), attributes={})\",\n",
       " \"Place(_api=<tweepy.api.API object at 0x00000223FDB1F470>, id='132fdb5153c47f41', url='https://api.twitter.com/1.1/geo/id/132fdb5153c47f41.json', place_type='city', name='Denia', full_name='Denia, Spain', country_code='ES', country='Spain', contained_within=[], bounding_box=BoundingBox(_api=<tweepy.api.API object at 0x00000223FDB1F470>, type='Polygon', coordinates=[[[-0.0441311, 38.7472212], [0.1671969, 38.7472212], [0.1671969, 38.8871964], [-0.0441311, 38.8871964]]]), attributes={})\",\n",
       " \"Place(_api=<tweepy.api.API object at 0x00000223FDB1F470>, id='000799c66e428a87', url='https://api.twitter.com/1.1/geo/id/000799c66e428a87.json', place_type='city', name='Jeddah', full_name='Jeddah, Kingdom of Saudi Arabia', country_code='SA', country='Kingdom of Saudi Arabia', contained_within=[], bounding_box=BoundingBox(_api=<tweepy.api.API object at 0x00000223FDB1F470>, type='Polygon', coordinates=[[[38.9296592, 20.9137751], [39.5785981, 20.9137751], [39.5785981, 22.2576464], [38.9296592, 22.2576464]]]), attributes={})\",\n",
       " \"Place(_api=<tweepy.api.API object at 0x00000223FDB1F470>, id='0fc36ae95f55e000', url='https://api.twitter.com/1.1/geo/id/0fc36ae95f55e000.json', place_type='poi', name='Finca La Vega De Henares', full_name='Finca La Vega De Henares', country_code='ES', country='Spain', contained_within=[], bounding_box=BoundingBox(_api=<tweepy.api.API object at 0x00000223FDB1F470>, type='Polygon', coordinates=[[[-3.3267502828547877, 40.49356994096646], [-3.3267502828547877, 40.49356994096646], [-3.3267502828547877, 40.49356994096646], [-3.3267502828547877, 40.49356994096646]]]), attributes={})\",\n",
       " \"Place(_api=<tweepy.api.API object at 0x00000223FDB1F470>, id='cc631a80adacd459', url='https://api.twitter.com/1.1/geo/id/cc631a80adacd459.json', place_type='city', name='Franklin', full_name='Franklin, TN', country_code='US', country='United States', contained_within=[], bounding_box=BoundingBox(_api=<tweepy.api.API object at 0x00000223FDB1F470>, type='Polygon', coordinates=[[[-86.935419, 35.85036], [-86.766934, 35.85036], [-86.766934, 36.019674], [-86.935419, 36.019674]]]), attributes={})\",\n",
       " \"Place(_api=<tweepy.api.API object at 0x00000223FDB1F470>, id='0811cf61cd9ea52f', url='https://api.twitter.com/1.1/geo/id/0811cf61cd9ea52f.json', place_type='city', name='Winnipeg', full_name='Winnipeg, Manitoba', country_code='CA', country='Canada', contained_within=[], bounding_box=BoundingBox(_api=<tweepy.api.API object at 0x00000223FDB1F470>, type='Polygon', coordinates=[[[-97.350366, 49.713679], [-96.954987, 49.713679], [-96.954987, 49.993932], [-97.350366, 49.993932]]]), attributes={})\",\n",
       " \"Place(_api=<tweepy.api.API object at 0x00000223FDB1F470>, id='1c69a67ad480e1b1', url='https://api.twitter.com/1.1/geo/id/1c69a67ad480e1b1.json', place_type='city', name='Houston', full_name='Houston, TX', country_code='US', country='United States', contained_within=[], bounding_box=BoundingBox(_api=<tweepy.api.API object at 0x00000223FDB1F470>, type='Polygon', coordinates=[[[-95.823268, 29.522325], [-95.069705, 29.522325], [-95.069705, 30.1546646], [-95.823268, 30.1546646]]]), attributes={})\",\n",
       " \"Place(_api=<tweepy.api.API object at 0x00000223FDB1F470>, id='08be9e4ebe3d037d', url='https://api.twitter.com/1.1/geo/id/08be9e4ebe3d037d.json', place_type='city', name='Poplar', full_name='Poplar, London', country_code='GB', country='United Kingdom', contained_within=[], bounding_box=BoundingBox(_api=<tweepy.api.API object at 0x00000223FDB1F470>, type='Polygon', coordinates=[[[-0.080028, 51.48432], [0.009989, 51.48432], [0.009989, 51.545341], [-0.080028, 51.545341]]]), attributes={})\",\n",
       " \"Place(_api=<tweepy.api.API object at 0x00000223FDB1F470>, id='007d6147297477e7', url='https://api.twitter.com/1.1/geo/id/007d6147297477e7.json', place_type='admin', name='Harare', full_name='Harare, Zimbabwe', country_code='ZW', country='Zimbabwe', contained_within=[], bounding_box=BoundingBox(_api=<tweepy.api.API object at 0x00000223FDB1F470>, type='Polygon', coordinates=[[[30.8695757, -18.0509906], [31.258844, -18.0509906], [31.258844, -17.6822832], [30.8695757, -17.6822832]]]), attributes={})\",\n",
       " \"Place(_api=<tweepy.api.API object at 0x00000223FDB1F470>, id='49e50d53015a6dc3', url='https://api.twitter.com/1.1/geo/id/49e50d53015a6dc3.json', place_type='city', name='Hyères', full_name='Hyères, France', country_code='FR', country='France', contained_within=[], bounding_box=BoundingBox(_api=<tweepy.api.API object at 0x00000223FDB1F470>, type='Polygon', coordinates=[[[6.0799171, 42.982218], [6.5124574, 42.982218], [6.5124574, 43.2071027], [6.0799171, 43.2071027]]]), attributes={})\",\n",
       " \"Place(_api=<tweepy.api.API object at 0x00000223FDB1F470>, id='0012aeca1d3ab7d1', url='https://api.twitter.com/1.1/geo/id/0012aeca1d3ab7d1.json', place_type='city', name='Villages of Oriole', full_name='Villages of Oriole, FL', country_code='US', country='United States', contained_within=[], bounding_box=BoundingBox(_api=<tweepy.api.API object at 0x00000223FDB1F470>, type='Polygon', coordinates=[[[-80.174847, 26.4536483], [-80.1224606, 26.4536483], [-80.1224606, 26.484047], [-80.174847, 26.484047]]]), attributes={})\",\n",
       " \"Place(_api=<tweepy.api.API object at 0x00000223FDB1F470>, id='2e09439cac5c7992', url='https://api.twitter.com/1.1/geo/id/2e09439cac5c7992.json', place_type='country', name='Somalia', full_name='Somalia', country_code='SO', country='Somalia', contained_within=[], bounding_box=BoundingBox(_api=<tweepy.api.API object at 0x00000223FDB1F470>, type='Polygon', coordinates=[[[40.9886682, -1.6603619], [51.4154958, -1.6603619], [51.4154958, 11.9880685], [40.9886682, 11.9880685]]]), attributes={})\"]"
      ]
     },
     "execution_count": 23,
     "metadata": {},
     "output_type": "execute_result"
    }
   ],
   "source": [
    "df.place.unique().tolist()"
   ]
  },
  {
   "cell_type": "code",
   "execution_count": 24,
   "metadata": {
    "ExecuteTime": {
     "end_time": "2021-05-22T19:52:39.914644Z",
     "start_time": "2021-05-22T19:52:39.775595Z"
    }
   },
   "outputs": [
    {
     "data": {
      "text/plain": [
       "(4949, 11)"
      ]
     },
     "execution_count": 24,
     "metadata": {},
     "output_type": "execute_result"
    }
   ],
   "source": [
    "df.shape"
   ]
  },
  {
   "cell_type": "code",
   "execution_count": null,
   "metadata": {},
   "outputs": [],
   "source": []
  },
  {
   "cell_type": "code",
   "execution_count": 25,
   "metadata": {
    "ExecuteTime": {
     "end_time": "2021-05-22T19:52:40.001577Z",
     "start_time": "2021-05-22T19:52:39.924123Z"
    }
   },
   "outputs": [
    {
     "data": {
      "text/html": [
       "<div>\n",
       "<style scoped>\n",
       "    .dataframe tbody tr th:only-of-type {\n",
       "        vertical-align: middle;\n",
       "    }\n",
       "\n",
       "    .dataframe tbody tr th {\n",
       "        vertical-align: top;\n",
       "    }\n",
       "\n",
       "    .dataframe thead th {\n",
       "        text-align: right;\n",
       "    }\n",
       "</style>\n",
       "<table border=\"1\" class=\"dataframe\">\n",
       "  <thead>\n",
       "    <tr style=\"text-align: right;\">\n",
       "      <th></th>\n",
       "      <th>Unnamed: 0</th>\n",
       "      <th>Tweets</th>\n",
       "      <th>id</th>\n",
       "      <th>lens</th>\n",
       "      <th>date</th>\n",
       "      <th>place</th>\n",
       "      <th>coordinateS</th>\n",
       "      <th>lang</th>\n",
       "      <th>source</th>\n",
       "      <th>likes</th>\n",
       "      <th>retweets</th>\n",
       "    </tr>\n",
       "  </thead>\n",
       "  <tbody>\n",
       "    <tr>\n",
       "      <th>0</th>\n",
       "      <td>0</td>\n",
       "      <td>b'RT @KaceyKells: KELLCEY \"This story not only...</td>\n",
       "      <td>1389681959329206272</td>\n",
       "      <td>140</td>\n",
       "      <td>2021-05-04 20:42:52</td>\n",
       "      <td>NaN</td>\n",
       "      <td>NaN</td>\n",
       "      <td>en</td>\n",
       "      <td>Twitter for iPhone</td>\n",
       "      <td>0</td>\n",
       "      <td>10284</td>\n",
       "    </tr>\n",
       "    <tr>\n",
       "      <th>1</th>\n",
       "      <td>1</td>\n",
       "      <td>b'RT @notice_com_ng: Man defiles his three tee...</td>\n",
       "      <td>1389681326786191362</td>\n",
       "      <td>139</td>\n",
       "      <td>2021-05-04 20:40:21</td>\n",
       "      <td>NaN</td>\n",
       "      <td>NaN</td>\n",
       "      <td>en</td>\n",
       "      <td>EndPoliceBrutality</td>\n",
       "      <td>0</td>\n",
       "      <td>2</td>\n",
       "    </tr>\n",
       "    <tr>\n",
       "      <th>2</th>\n",
       "      <td>2</td>\n",
       "      <td>b'Man defiles his three teenage daughters, ano...</td>\n",
       "      <td>1389681304845828100</td>\n",
       "      <td>169</td>\n",
       "      <td>2021-05-04 20:40:16</td>\n",
       "      <td>NaN</td>\n",
       "      <td>NaN</td>\n",
       "      <td>en</td>\n",
       "      <td>notice.com.ng</td>\n",
       "      <td>1</td>\n",
       "      <td>2</td>\n",
       "    </tr>\n",
       "    <tr>\n",
       "      <th>3</th>\n",
       "      <td>3</td>\n",
       "      <td>b'RT @KaceyKells: KELLCEY \"This story not only...</td>\n",
       "      <td>1389680872937426944</td>\n",
       "      <td>140</td>\n",
       "      <td>2021-05-04 20:38:33</td>\n",
       "      <td>NaN</td>\n",
       "      <td>NaN</td>\n",
       "      <td>en</td>\n",
       "      <td>Twitter Web App</td>\n",
       "      <td>0</td>\n",
       "      <td>10284</td>\n",
       "    </tr>\n",
       "    <tr>\n",
       "      <th>4</th>\n",
       "      <td>4</td>\n",
       "      <td>b'RT @PixelProject: #AFRICA: Abuse of women in...</td>\n",
       "      <td>1389679991621881856</td>\n",
       "      <td>132</td>\n",
       "      <td>2021-05-04 20:35:03</td>\n",
       "      <td>NaN</td>\n",
       "      <td>NaN</td>\n",
       "      <td>en</td>\n",
       "      <td>Twitter Web App</td>\n",
       "      <td>0</td>\n",
       "      <td>1</td>\n",
       "    </tr>\n",
       "  </tbody>\n",
       "</table>\n",
       "</div>"
      ],
      "text/plain": [
       "   Unnamed: 0                                             Tweets  \\\n",
       "0           0  b'RT @KaceyKells: KELLCEY \"This story not only...   \n",
       "1           1  b'RT @notice_com_ng: Man defiles his three tee...   \n",
       "2           2  b'Man defiles his three teenage daughters, ano...   \n",
       "3           3  b'RT @KaceyKells: KELLCEY \"This story not only...   \n",
       "4           4  b'RT @PixelProject: #AFRICA: Abuse of women in...   \n",
       "\n",
       "                    id  lens                 date place coordinateS lang  \\\n",
       "0  1389681959329206272   140  2021-05-04 20:42:52   NaN         NaN   en   \n",
       "1  1389681326786191362   139  2021-05-04 20:40:21   NaN         NaN   en   \n",
       "2  1389681304845828100   169  2021-05-04 20:40:16   NaN         NaN   en   \n",
       "3  1389680872937426944   140  2021-05-04 20:38:33   NaN         NaN   en   \n",
       "4  1389679991621881856   132  2021-05-04 20:35:03   NaN         NaN   en   \n",
       "\n",
       "               source  likes  retweets  \n",
       "0  Twitter for iPhone      0     10284  \n",
       "1  EndPoliceBrutality      0         2  \n",
       "2       notice.com.ng      1         2  \n",
       "3     Twitter Web App      0     10284  \n",
       "4     Twitter Web App      0         1  "
      ]
     },
     "execution_count": 25,
     "metadata": {},
     "output_type": "execute_result"
    }
   ],
   "source": [
    "df.head()"
   ]
  },
  {
   "cell_type": "code",
   "execution_count": 26,
   "metadata": {
    "ExecuteTime": {
     "end_time": "2021-05-22T19:52:40.153612Z",
     "start_time": "2021-05-22T19:52:40.008071Z"
    }
   },
   "outputs": [
    {
     "data": {
      "text/plain": [
       "array(['Twitter for iPhone', 'EndPoliceBrutality', 'notice.com.ng',\n",
       "       'Twitter Web App', 'Twitter for Android', 'TweetDeck',\n",
       "       'Tweet Suite', 'RetweetsMumbaiOne', 'PulpNews', 'himachalibot',\n",
       "       'hp_pk', 'Twitter for iPad', 'SocialPilot.co', '92 News HD',\n",
       "       'Gender History Bot', 'NMB News', 'Natural Disasters Bot',\n",
       "       'Buffer', 'twittbot.net', 'CodeAtt Bot', ' PixelTweeter',\n",
       "       'AnyPoll Links', 'The Edinburgh Forum app', 'optimistic_bot',\n",
       "       'HubSpot', 'Hootsuite Inc.', 'nigmit6', 'dlvr.it', 'Surgery2021',\n",
       "       'Tech Nation News updates', 'Diaspora at pod.jns.im',\n",
       "       'Hopscotch Social', 'CinchShare', 'Revive Social App',\n",
       "       'Bible_robot', 'Besocy_Oficial', 'PollachiBot',\n",
       "       'Anil Namma Pollachi', 'Instagram', 'Canva', 'LaterMedia',\n",
       "       'WordPress.com', 'Naija.fm', 'the404codeBot',\n",
       "       'Retweet Bot @wisehussein', 'IFTTT', 'Hocalwire Social Share',\n",
       "       'TestforHeruku', 'vrgamersbot', 'Twitter for Mac', 'Jammu Bot',\n",
       "       'Revive Old Posts KRGP', 'LinkedIn', 'GetReal360',\n",
       "       ' rohingya Update', 'Fenix for iOS', 'Community Engagement',\n",
       "       'jane_the_bot', 'Metricool', 'Retweet bot bsd', 'Isrg',\n",
       "       'Balik Cina', 'Blog2Social APP', 'Talon Android', 'Sipho_bot',\n",
       "       'io167666', 'TheJournoRequest', 'EcuaBot 2.0', 'Tweetbot for iΟS',\n",
       "       'erased20710245', 'FS Poster', 'Fanbooster by Traject',\n",
       "       'Tweetlogix', 'Oneindia Tamil', 'TwitPane for Android',\n",
       "       'Yoyocial.News', '101rafiki', 'Crowdfire App'], dtype=object)"
      ]
     },
     "execution_count": 26,
     "metadata": {},
     "output_type": "execute_result"
    }
   ],
   "source": [
    "df['source'].unique()"
   ]
  },
  {
   "cell_type": "code",
   "execution_count": 27,
   "metadata": {
    "ExecuteTime": {
     "end_time": "2021-05-22T19:52:40.420298Z",
     "start_time": "2021-05-22T19:52:40.161005Z"
    },
    "scrolled": true
   },
   "outputs": [
    {
     "data": {
      "text/html": [
       "<div>\n",
       "<style scoped>\n",
       "    .dataframe tbody tr th:only-of-type {\n",
       "        vertical-align: middle;\n",
       "    }\n",
       "\n",
       "    .dataframe tbody tr th {\n",
       "        vertical-align: top;\n",
       "    }\n",
       "\n",
       "    .dataframe thead th {\n",
       "        text-align: right;\n",
       "    }\n",
       "</style>\n",
       "<table border=\"1\" class=\"dataframe\">\n",
       "  <thead>\n",
       "    <tr style=\"text-align: right;\">\n",
       "      <th></th>\n",
       "      <th>Tweets</th>\n",
       "      <th>id</th>\n",
       "      <th>lens</th>\n",
       "      <th>date</th>\n",
       "      <th>place</th>\n",
       "      <th>coordinateS</th>\n",
       "      <th>lang</th>\n",
       "      <th>source</th>\n",
       "      <th>likes</th>\n",
       "      <th>retweets</th>\n",
       "      <th>New_Tweets</th>\n",
       "    </tr>\n",
       "  </thead>\n",
       "  <tbody>\n",
       "    <tr>\n",
       "      <th>0</th>\n",
       "      <td>False</td>\n",
       "      <td>False</td>\n",
       "      <td>False</td>\n",
       "      <td>False</td>\n",
       "      <td>True</td>\n",
       "      <td>True</td>\n",
       "      <td>False</td>\n",
       "      <td>False</td>\n",
       "      <td>False</td>\n",
       "      <td>False</td>\n",
       "      <td>False</td>\n",
       "    </tr>\n",
       "    <tr>\n",
       "      <th>1</th>\n",
       "      <td>False</td>\n",
       "      <td>False</td>\n",
       "      <td>False</td>\n",
       "      <td>False</td>\n",
       "      <td>True</td>\n",
       "      <td>True</td>\n",
       "      <td>False</td>\n",
       "      <td>False</td>\n",
       "      <td>False</td>\n",
       "      <td>False</td>\n",
       "      <td>False</td>\n",
       "    </tr>\n",
       "    <tr>\n",
       "      <th>2</th>\n",
       "      <td>False</td>\n",
       "      <td>False</td>\n",
       "      <td>False</td>\n",
       "      <td>False</td>\n",
       "      <td>True</td>\n",
       "      <td>True</td>\n",
       "      <td>False</td>\n",
       "      <td>False</td>\n",
       "      <td>False</td>\n",
       "      <td>False</td>\n",
       "      <td>False</td>\n",
       "    </tr>\n",
       "    <tr>\n",
       "      <th>3</th>\n",
       "      <td>False</td>\n",
       "      <td>False</td>\n",
       "      <td>False</td>\n",
       "      <td>False</td>\n",
       "      <td>True</td>\n",
       "      <td>True</td>\n",
       "      <td>False</td>\n",
       "      <td>False</td>\n",
       "      <td>False</td>\n",
       "      <td>False</td>\n",
       "      <td>False</td>\n",
       "    </tr>\n",
       "    <tr>\n",
       "      <th>4</th>\n",
       "      <td>False</td>\n",
       "      <td>False</td>\n",
       "      <td>False</td>\n",
       "      <td>False</td>\n",
       "      <td>True</td>\n",
       "      <td>True</td>\n",
       "      <td>False</td>\n",
       "      <td>False</td>\n",
       "      <td>False</td>\n",
       "      <td>False</td>\n",
       "      <td>False</td>\n",
       "    </tr>\n",
       "    <tr>\n",
       "      <th>...</th>\n",
       "      <td>...</td>\n",
       "      <td>...</td>\n",
       "      <td>...</td>\n",
       "      <td>...</td>\n",
       "      <td>...</td>\n",
       "      <td>...</td>\n",
       "      <td>...</td>\n",
       "      <td>...</td>\n",
       "      <td>...</td>\n",
       "      <td>...</td>\n",
       "      <td>...</td>\n",
       "    </tr>\n",
       "    <tr>\n",
       "      <th>5021</th>\n",
       "      <td>False</td>\n",
       "      <td>False</td>\n",
       "      <td>False</td>\n",
       "      <td>False</td>\n",
       "      <td>True</td>\n",
       "      <td>True</td>\n",
       "      <td>False</td>\n",
       "      <td>False</td>\n",
       "      <td>False</td>\n",
       "      <td>False</td>\n",
       "      <td>False</td>\n",
       "    </tr>\n",
       "    <tr>\n",
       "      <th>5022</th>\n",
       "      <td>False</td>\n",
       "      <td>False</td>\n",
       "      <td>False</td>\n",
       "      <td>False</td>\n",
       "      <td>True</td>\n",
       "      <td>True</td>\n",
       "      <td>False</td>\n",
       "      <td>False</td>\n",
       "      <td>False</td>\n",
       "      <td>False</td>\n",
       "      <td>False</td>\n",
       "    </tr>\n",
       "    <tr>\n",
       "      <th>5023</th>\n",
       "      <td>False</td>\n",
       "      <td>False</td>\n",
       "      <td>False</td>\n",
       "      <td>False</td>\n",
       "      <td>True</td>\n",
       "      <td>True</td>\n",
       "      <td>False</td>\n",
       "      <td>False</td>\n",
       "      <td>False</td>\n",
       "      <td>False</td>\n",
       "      <td>False</td>\n",
       "    </tr>\n",
       "    <tr>\n",
       "      <th>5024</th>\n",
       "      <td>False</td>\n",
       "      <td>False</td>\n",
       "      <td>False</td>\n",
       "      <td>False</td>\n",
       "      <td>True</td>\n",
       "      <td>True</td>\n",
       "      <td>False</td>\n",
       "      <td>False</td>\n",
       "      <td>False</td>\n",
       "      <td>False</td>\n",
       "      <td>False</td>\n",
       "    </tr>\n",
       "    <tr>\n",
       "      <th>5025</th>\n",
       "      <td>False</td>\n",
       "      <td>False</td>\n",
       "      <td>False</td>\n",
       "      <td>False</td>\n",
       "      <td>True</td>\n",
       "      <td>True</td>\n",
       "      <td>False</td>\n",
       "      <td>False</td>\n",
       "      <td>False</td>\n",
       "      <td>False</td>\n",
       "      <td>False</td>\n",
       "    </tr>\n",
       "  </tbody>\n",
       "</table>\n",
       "<p>61355 rows × 11 columns</p>\n",
       "</div>"
      ],
      "text/plain": [
       "      Tweets     id   lens   date  place  coordinateS   lang  source  likes  \\\n",
       "0      False  False  False  False   True         True  False   False  False   \n",
       "1      False  False  False  False   True         True  False   False  False   \n",
       "2      False  False  False  False   True         True  False   False  False   \n",
       "3      False  False  False  False   True         True  False   False  False   \n",
       "4      False  False  False  False   True         True  False   False  False   \n",
       "...      ...    ...    ...    ...    ...          ...    ...     ...    ...   \n",
       "5021   False  False  False  False   True         True  False   False  False   \n",
       "5022   False  False  False  False   True         True  False   False  False   \n",
       "5023   False  False  False  False   True         True  False   False  False   \n",
       "5024   False  False  False  False   True         True  False   False  False   \n",
       "5025   False  False  False  False   True         True  False   False  False   \n",
       "\n",
       "      retweets  New_Tweets  \n",
       "0        False       False  \n",
       "1        False       False  \n",
       "2        False       False  \n",
       "3        False       False  \n",
       "4        False       False  \n",
       "...        ...         ...  \n",
       "5021     False       False  \n",
       "5022     False       False  \n",
       "5023     False       False  \n",
       "5024     False       False  \n",
       "5025     False       False  \n",
       "\n",
       "[61355 rows x 11 columns]"
      ]
     },
     "execution_count": 27,
     "metadata": {},
     "output_type": "execute_result"
    }
   ],
   "source": [
    "data.isna()"
   ]
  },
  {
   "cell_type": "code",
   "execution_count": 28,
   "metadata": {
    "ExecuteTime": {
     "end_time": "2021-05-22T19:53:01.231136Z",
     "start_time": "2021-05-22T19:52:40.424625Z"
    }
   },
   "outputs": [
    {
     "data": {
      "text/plain": [
       "<Figure size 1000x700 with 1 Axes>"
      ]
     },
     "metadata": {},
     "output_type": "display_data"
    }
   ],
   "source": [
    "import matplotlib.pyplot as plt\n",
    "all_words = ' '.join([text for text in data['New_Tweets']])\n",
    "from wordcloud import WordCloud\n",
    "wordcloud = WordCloud(width=800, height=500, random_state=21, max_font_size=110).generate(all_words)\n",
    "\n",
    "plt.figure(figsize=(10, 7))\n",
    "plt.imshow(wordcloud, interpolation=\"bilinear\")\n",
    "plt.axis('off')\n",
    "plt.show()"
   ]
  },
  {
   "cell_type": "code",
   "execution_count": null,
   "metadata": {},
   "outputs": [],
   "source": []
  },
  {
   "cell_type": "code",
   "execution_count": 29,
   "metadata": {
    "ExecuteTime": {
     "end_time": "2021-05-22T19:53:01.260775Z",
     "start_time": "2021-05-22T19:53:01.242973Z"
    }
   },
   "outputs": [],
   "source": [
    "def remove_pattern(input_txt, pattern):\n",
    "    r = re.findall(pattern, input_txt)\n",
    "    for i in r:\n",
    "        input_txt = re.sub(i, '', input_txt)\n",
    "        \n",
    "    return input_txt    "
   ]
  },
  {
   "cell_type": "code",
   "execution_count": 30,
   "metadata": {
    "ExecuteTime": {
     "end_time": "2021-05-22T19:53:10.248149Z",
     "start_time": "2021-05-22T19:53:01.270459Z"
    }
   },
   "outputs": [],
   "source": [
    "data['New'] = np.vectorize(remove_pattern)(data['New_Tweets'], \"@[\\w]*\")"
   ]
  },
  {
   "cell_type": "code",
   "execution_count": 31,
   "metadata": {
    "ExecuteTime": {
     "end_time": "2021-05-22T19:53:13.909873Z",
     "start_time": "2021-05-22T19:53:10.252064Z"
    }
   },
   "outputs": [
    {
     "data": {
      "text/html": [
       "<div>\n",
       "<style scoped>\n",
       "    .dataframe tbody tr th:only-of-type {\n",
       "        vertical-align: middle;\n",
       "    }\n",
       "\n",
       "    .dataframe tbody tr th {\n",
       "        vertical-align: top;\n",
       "    }\n",
       "\n",
       "    .dataframe thead th {\n",
       "        text-align: right;\n",
       "    }\n",
       "</style>\n",
       "<table border=\"1\" class=\"dataframe\">\n",
       "  <thead>\n",
       "    <tr style=\"text-align: right;\">\n",
       "      <th></th>\n",
       "      <th>Tweets</th>\n",
       "      <th>id</th>\n",
       "      <th>lens</th>\n",
       "      <th>date</th>\n",
       "      <th>place</th>\n",
       "      <th>coordinateS</th>\n",
       "      <th>lang</th>\n",
       "      <th>source</th>\n",
       "      <th>likes</th>\n",
       "      <th>retweets</th>\n",
       "      <th>New_Tweets</th>\n",
       "      <th>New</th>\n",
       "    </tr>\n",
       "  </thead>\n",
       "  <tbody>\n",
       "    <tr>\n",
       "      <th>0</th>\n",
       "      <td>b'RT @KaceyKells: KELLCEY \"This story not only...</td>\n",
       "      <td>1389681959329206272</td>\n",
       "      <td>140</td>\n",
       "      <td>2021-05-04 20:42:52</td>\n",
       "      <td>NaN</td>\n",
       "      <td>NaN</td>\n",
       "      <td>en</td>\n",
       "      <td>Twitter for iPhone</td>\n",
       "      <td>0</td>\n",
       "      <td>10284</td>\n",
       "      <td>b ' : \" story not only bears witness to what c...</td>\n",
       "      <td>b ' : \" story not only bears witness to what c...</td>\n",
       "    </tr>\n",
       "    <tr>\n",
       "      <th>1</th>\n",
       "      <td>b'RT @notice_com_ng: Man defiles his three tee...</td>\n",
       "      <td>1389681326786191362</td>\n",
       "      <td>139</td>\n",
       "      <td>2021-05-04 20:40:21</td>\n",
       "      <td>NaN</td>\n",
       "      <td>NaN</td>\n",
       "      <td>en</td>\n",
       "      <td>EndPoliceBrutality</td>\n",
       "      <td>0</td>\n",
       "      <td>2</td>\n",
       "      <td>b ' com ng : defiles his three teenage daughte...</td>\n",
       "      <td>b ' com ng : defiles his three teenage daughte...</td>\n",
       "    </tr>\n",
       "    <tr>\n",
       "      <th>2</th>\n",
       "      <td>b'Man defiles his three teenage daughters, ano...</td>\n",
       "      <td>1389681304845828100</td>\n",
       "      <td>169</td>\n",
       "      <td>2021-05-04 20:40:16</td>\n",
       "      <td>NaN</td>\n",
       "      <td>NaN</td>\n",
       "      <td>en</td>\n",
       "      <td>notice.com.ng</td>\n",
       "      <td>1</td>\n",
       "      <td>2</td>\n",
       "      <td>b ' defiles his three teenage daughters , anot...</td>\n",
       "      <td>b ' defiles his three teenage daughters , anot...</td>\n",
       "    </tr>\n",
       "    <tr>\n",
       "      <th>3</th>\n",
       "      <td>b'RT @KaceyKells: KELLCEY \"This story not only...</td>\n",
       "      <td>1389680872937426944</td>\n",
       "      <td>140</td>\n",
       "      <td>2021-05-04 20:38:33</td>\n",
       "      <td>NaN</td>\n",
       "      <td>NaN</td>\n",
       "      <td>en</td>\n",
       "      <td>Twitter Web App</td>\n",
       "      <td>0</td>\n",
       "      <td>10284</td>\n",
       "      <td>b ' : \" story not only bears witness to what c...</td>\n",
       "      <td>b ' : \" story not only bears witness to what c...</td>\n",
       "    </tr>\n",
       "    <tr>\n",
       "      <th>4</th>\n",
       "      <td>b'RT @PixelProject: #AFRICA: Abuse of women in...</td>\n",
       "      <td>1389679991621881856</td>\n",
       "      <td>132</td>\n",
       "      <td>2021-05-04 20:35:03</td>\n",
       "      <td>NaN</td>\n",
       "      <td>NaN</td>\n",
       "      <td>en</td>\n",
       "      <td>Twitter Web App</td>\n",
       "      <td>0</td>\n",
       "      <td>1</td>\n",
       "      <td>b ' : : of women in \\ n \\ n '</td>\n",
       "      <td>b ' : : of women in \\ n \\ n '</td>\n",
       "    </tr>\n",
       "  </tbody>\n",
       "</table>\n",
       "</div>"
      ],
      "text/plain": [
       "                                              Tweets                   id  \\\n",
       "0  b'RT @KaceyKells: KELLCEY \"This story not only...  1389681959329206272   \n",
       "1  b'RT @notice_com_ng: Man defiles his three tee...  1389681326786191362   \n",
       "2  b'Man defiles his three teenage daughters, ano...  1389681304845828100   \n",
       "3  b'RT @KaceyKells: KELLCEY \"This story not only...  1389680872937426944   \n",
       "4  b'RT @PixelProject: #AFRICA: Abuse of women in...  1389679991621881856   \n",
       "\n",
       "   lens                 date place coordinateS lang              source  \\\n",
       "0   140  2021-05-04 20:42:52   NaN         NaN   en  Twitter for iPhone   \n",
       "1   139  2021-05-04 20:40:21   NaN         NaN   en  EndPoliceBrutality   \n",
       "2   169  2021-05-04 20:40:16   NaN         NaN   en       notice.com.ng   \n",
       "3   140  2021-05-04 20:38:33   NaN         NaN   en     Twitter Web App   \n",
       "4   132  2021-05-04 20:35:03   NaN         NaN   en     Twitter Web App   \n",
       "\n",
       "   likes  retweets                                         New_Tweets  \\\n",
       "0      0     10284  b ' : \" story not only bears witness to what c...   \n",
       "1      0         2  b ' com ng : defiles his three teenage daughte...   \n",
       "2      1         2  b ' defiles his three teenage daughters , anot...   \n",
       "3      0     10284  b ' : \" story not only bears witness to what c...   \n",
       "4      0         1                      b ' : : of women in \\ n \\ n '   \n",
       "\n",
       "                                                 New  \n",
       "0  b ' : \" story not only bears witness to what c...  \n",
       "1  b ' com ng : defiles his three teenage daughte...  \n",
       "2  b ' defiles his three teenage daughters , anot...  \n",
       "3  b ' : \" story not only bears witness to what c...  \n",
       "4                      b ' : : of women in \\ n \\ n '  "
      ]
     },
     "execution_count": 31,
     "metadata": {},
     "output_type": "execute_result"
    }
   ],
   "source": [
    "data.head()"
   ]
  },
  {
   "cell_type": "code",
   "execution_count": 32,
   "metadata": {
    "ExecuteTime": {
     "end_time": "2021-05-22T19:53:16.665550Z",
     "start_time": "2021-05-22T19:53:13.915731Z"
    }
   },
   "outputs": [],
   "source": [
    "data['New'] = data['New'].str.replace(\"[^a-zA-Z#]\", \" \")"
   ]
  },
  {
   "cell_type": "code",
   "execution_count": 33,
   "metadata": {
    "ExecuteTime": {
     "end_time": "2021-05-22T19:53:17.338758Z",
     "start_time": "2021-05-22T19:53:16.674180Z"
    }
   },
   "outputs": [],
   "source": [
    "data['New'] = data['New'].apply(lambda x: ' '.join([w for w in x.split() if len(w)>3]))"
   ]
  },
  {
   "cell_type": "code",
   "execution_count": 34,
   "metadata": {
    "ExecuteTime": {
     "end_time": "2021-05-22T19:53:17.582337Z",
     "start_time": "2021-05-22T19:53:17.344771Z"
    }
   },
   "outputs": [
    {
     "data": {
      "text/plain": [
       "0    story only bears witness what countless other ...\n",
       "0    tweeted about police stations women respond ve...\n",
       "0        said would ever entertain thought mistreating\n",
       "0                                                     \n",
       "0    owns member criminal fraud guilty domesticviol...\n",
       "Name: New, dtype: object"
      ]
     },
     "execution_count": 34,
     "metadata": {},
     "output_type": "execute_result"
    }
   ],
   "source": [
    "data.New[0]"
   ]
  },
  {
   "cell_type": "code",
   "execution_count": 35,
   "metadata": {
    "ExecuteTime": {
     "end_time": "2021-05-22T19:53:27.866997Z",
     "start_time": "2021-05-22T19:53:17.588015Z"
    }
   },
   "outputs": [
    {
     "data": {
      "image/png": "[encoded data removed]",
      "text/plain": [
       "<Figure size 720x504 with 1 Axes>"
      ]
     },
     "metadata": {
      "needs_background": "light"
     },
     "output_type": "display_data"
    }
   ],
   "source": [
    "words = ' '.join([text for text in data['New']])\n",
    "wordcloud = WordCloud(width=800, height=500, random_state=21, max_font_size=110).generate(words)\n",
    "\n",
    "plt.figure(figsize=(10, 7))\n",
    "plt.imshow(wordcloud, interpolation=\"bilinear\")\n",
    "plt.axis('off')\n",
    "plt.show()"
   ]
  },
  {
   "cell_type": "code",
   "execution_count": 36,
   "metadata": {
    "ExecuteTime": {
     "end_time": "2021-05-22T19:53:27.930419Z",
     "start_time": "2021-05-22T19:53:27.879055Z"
    }
   },
   "outputs": [
    {
     "data": {
      "text/plain": [
       "en     31905\n",
       "es      9901\n",
       "el      5296\n",
       "und     5228\n",
       "pt      2258\n",
       "fr      2097\n",
       "de      1258\n",
       "ja      1133\n",
       "ru       328\n",
       "nl       294\n",
       "hi       234\n",
       "fa       189\n",
       "it       164\n",
       "is       156\n",
       "ta       141\n",
       "ar       140\n",
       "sv       105\n",
       "tl        67\n",
       "da        64\n",
       "in        63\n",
       "tr        42\n",
       "gu        31\n",
       "pl        30\n",
       "ur        26\n",
       "ht        19\n",
       "fi        18\n",
       "et        16\n",
       "zh        16\n",
       "ne        15\n",
       "iw        13\n",
       "mr        10\n",
       "ro        10\n",
       "no        10\n",
       "ko         9\n",
       "cs         9\n",
       "ca         8\n",
       "bn         8\n",
       "or         7\n",
       "ml         7\n",
       "sl         6\n",
       "eu         4\n",
       "th         4\n",
       "te         3\n",
       "ps         2\n",
       "lv         2\n",
       "sr         2\n",
       "lt         2\n",
       "pa         2\n",
       "uk         1\n",
       "kn         1\n",
       "cy         1\n",
       "Name: lang, dtype: int64"
      ]
     },
     "execution_count": 36,
     "metadata": {},
     "output_type": "execute_result"
    }
   ],
   "source": [
    "data['lang'].value_counts()"
   ]
  },
  {
   "cell_type": "code",
   "execution_count": 37,
   "metadata": {
    "ExecuteTime": {
     "end_time": "2021-05-22T19:53:28.221994Z",
     "start_time": "2021-05-22T19:53:27.937496Z"
    }
   },
   "outputs": [],
   "source": [
    "langs_count = data.lang.value_counts()\n"
   ]
  },
  {
   "cell_type": "code",
   "execution_count": 38,
   "metadata": {
    "ExecuteTime": {
     "end_time": "2021-05-22T19:53:29.976614Z",
     "start_time": "2021-05-22T19:53:28.227998Z"
    }
   },
   "outputs": [
    {
     "data": {
      "text/plain": [
       "<matplotlib.axes._subplots.AxesSubplot at 0x26e8e32d6a0>"
      ]
     },
     "execution_count": 38,
     "metadata": {},
     "output_type": "execute_result"
    },
    {
     "data": {
      "image/png": "[encoded data removed]",
      "text/plain": [
       "<Figure size 2160x720 with 1 Axes>"
      ]
     },
     "metadata": {
      "needs_background": "light"
     },
     "output_type": "display_data"
    }
   ],
   "source": [
    "langs_count.plot.bar(figsize=(30,10), fontsize=20)\n"
   ]
  },
  {
   "cell_type": "markdown",
   "metadata": {},
   "source": [
    "# From the lang we have more data on the English tweets than other languages and so we can discard them."
   ]
  },
  {
   "cell_type": "code",
   "execution_count": 39,
   "metadata": {
    "ExecuteTime": {
     "end_time": "2021-05-22T19:53:30.147980Z",
     "start_time": "2021-05-22T19:53:29.979403Z"
    }
   },
   "outputs": [],
   "source": [
    "# indexNames = df[df['name'] == 'john'].index\n",
    "ind=data[data.lang !='en'].index"
   ]
  },
  {
   "cell_type": "code",
   "execution_count": 40,
   "metadata": {
    "ExecuteTime": {
     "end_time": "2021-05-22T19:53:31.557401Z",
     "start_time": "2021-05-22T19:53:30.156882Z"
    }
   },
   "outputs": [],
   "source": [
    "newdf=data.drop(ind,inplace=True)  "
   ]
  },
  {
   "cell_type": "code",
   "execution_count": 41,
   "metadata": {
    "ExecuteTime": {
     "end_time": "2021-05-22T19:53:31.568025Z",
     "start_time": "2021-05-22T19:53:31.559400Z"
    }
   },
   "outputs": [],
   "source": [
    "newdf"
   ]
  },
  {
   "cell_type": "code",
   "execution_count": 42,
   "metadata": {
    "ExecuteTime": {
     "end_time": "2021-05-22T19:53:31.830687Z",
     "start_time": "2021-05-22T19:53:31.571021Z"
    }
   },
   "outputs": [
    {
     "data": {
      "text/html": [
       "<div>\n",
       "<style scoped>\n",
       "    .dataframe tbody tr th:only-of-type {\n",
       "        vertical-align: middle;\n",
       "    }\n",
       "\n",
       "    .dataframe tbody tr th {\n",
       "        vertical-align: top;\n",
       "    }\n",
       "\n",
       "    .dataframe thead th {\n",
       "        text-align: right;\n",
       "    }\n",
       "</style>\n",
       "<table border=\"1\" class=\"dataframe\">\n",
       "  <thead>\n",
       "    <tr style=\"text-align: right;\">\n",
       "      <th></th>\n",
       "      <th>Tweets</th>\n",
       "      <th>id</th>\n",
       "      <th>lens</th>\n",
       "      <th>date</th>\n",
       "      <th>place</th>\n",
       "      <th>coordinateS</th>\n",
       "      <th>lang</th>\n",
       "      <th>source</th>\n",
       "      <th>likes</th>\n",
       "      <th>retweets</th>\n",
       "      <th>New_Tweets</th>\n",
       "      <th>New</th>\n",
       "    </tr>\n",
       "  </thead>\n",
       "  <tbody>\n",
       "    <tr>\n",
       "      <th>18</th>\n",
       "      <td>b\"#rape #think #painful Should #Bangladesh #Pa...</td>\n",
       "      <td>1389670422707326979</td>\n",
       "      <td>289</td>\n",
       "      <td>2021-05-04 19:57:02</td>\n",
       "      <td>NaN</td>\n",
       "      <td>NaN</td>\n",
       "      <td>en</td>\n",
       "      <td>Tweet Suite</td>\n",
       "      <td>0</td>\n",
       "      <td>0</td>\n",
       "      <td>b \" rape think painful &amp; amp ; ' s persecuted ...</td>\n",
       "      <td>rape think painful persecuted allow persecutor...</td>\n",
       "    </tr>\n",
       "    <tr>\n",
       "      <th>22</th>\n",
       "      <td>b'#Rape is being used as a weapon as fighting ...</td>\n",
       "      <td>1389670105639014406</td>\n",
       "      <td>277</td>\n",
       "      <td>2021-05-04 19:55:46</td>\n",
       "      <td>NaN</td>\n",
       "      <td>NaN</td>\n",
       "      <td>en</td>\n",
       "      <td>Twitter Web App</td>\n",
       "      <td>0</td>\n",
       "      <td>0</td>\n",
       "      <td>b ' is being used as a weapon as fighting rage...</td>\n",
       "      <td>being used weapon fighting rages remote parts ...</td>\n",
       "    </tr>\n",
       "    <tr>\n",
       "      <th>25</th>\n",
       "      <td>b'RT @JusticeOzzie: Christian Porter sporting ...</td>\n",
       "      <td>1389669311099269120</td>\n",
       "      <td>140</td>\n",
       "      <td>2021-05-04 19:52:37</td>\n",
       "      <td>NaN</td>\n",
       "      <td>NaN</td>\n",
       "      <td>en</td>\n",
       "      <td>Twitter Web App</td>\n",
       "      <td>0</td>\n",
       "      <td>26</td>\n",
       "      <td>b ' : sporting that \\ xe2 \\ x80 \\ x98allegedly...</td>\n",
       "      <td>sporting that allegedly innocent look auspol</td>\n",
       "    </tr>\n",
       "    <tr>\n",
       "      <th>26</th>\n",
       "      <td>b'RT @Tesfaalem_: May 4 marks six months since...</td>\n",
       "      <td>1389668485379285005</td>\n",
       "      <td>144</td>\n",
       "      <td>2021-05-04 19:49:20</td>\n",
       "      <td>NaN</td>\n",
       "      <td>NaN</td>\n",
       "      <td>en</td>\n",
       "      <td>Twitter Web App</td>\n",
       "      <td>0</td>\n",
       "      <td>1</td>\n",
       "      <td>b ' : 4 marks six months since the start of ar...</td>\n",
       "      <td>marks months since start armed conflict betwee...</td>\n",
       "    </tr>\n",
       "    <tr>\n",
       "      <th>28</th>\n",
       "      <td>b'RT @MameTigray: #Rape is being used as a wea...</td>\n",
       "      <td>1389667641242030080</td>\n",
       "      <td>140</td>\n",
       "      <td>2021-05-04 19:45:59</td>\n",
       "      <td>NaN</td>\n",
       "      <td>NaN</td>\n",
       "      <td>en</td>\n",
       "      <td>Twitter Web App</td>\n",
       "      <td>0</td>\n",
       "      <td>1</td>\n",
       "      <td>b ' : is being used as a weapon in \\ . \\ \\ \\ \\...</td>\n",
       "      <td>being used weapon</td>\n",
       "    </tr>\n",
       "  </tbody>\n",
       "</table>\n",
       "</div>"
      ],
      "text/plain": [
       "                                               Tweets                   id  \\\n",
       "18  b\"#rape #think #painful Should #Bangladesh #Pa...  1389670422707326979   \n",
       "22  b'#Rape is being used as a weapon as fighting ...  1389670105639014406   \n",
       "25  b'RT @JusticeOzzie: Christian Porter sporting ...  1389669311099269120   \n",
       "26  b'RT @Tesfaalem_: May 4 marks six months since...  1389668485379285005   \n",
       "28  b'RT @MameTigray: #Rape is being used as a wea...  1389667641242030080   \n",
       "\n",
       "    lens                 date place coordinateS lang           source  likes  \\\n",
       "18   289  2021-05-04 19:57:02   NaN         NaN   en      Tweet Suite      0   \n",
       "22   277  2021-05-04 19:55:46   NaN         NaN   en  Twitter Web App      0   \n",
       "25   140  2021-05-04 19:52:37   NaN         NaN   en  Twitter Web App      0   \n",
       "26   144  2021-05-04 19:49:20   NaN         NaN   en  Twitter Web App      0   \n",
       "28   140  2021-05-04 19:45:59   NaN         NaN   en  Twitter Web App      0   \n",
       "\n",
       "    retweets                                         New_Tweets  \\\n",
       "18         0  b \" rape think painful & amp ; ' s persecuted ...   \n",
       "22         0  b ' is being used as a weapon as fighting rage...   \n",
       "25        26  b ' : sporting that \\ xe2 \\ x80 \\ x98allegedly...   \n",
       "26         1  b ' : 4 marks six months since the start of ar...   \n",
       "28         1  b ' : is being used as a weapon in \\ . \\ \\ \\ \\...   \n",
       "\n",
       "                                                  New  \n",
       "18  rape think painful persecuted allow persecutor...  \n",
       "22  being used weapon fighting rages remote parts ...  \n",
       "25       sporting that allegedly innocent look auspol  \n",
       "26  marks months since start armed conflict betwee...  \n",
       "28                                  being used weapon  "
      ]
     },
     "execution_count": 42,
     "metadata": {},
     "output_type": "execute_result"
    }
   ],
   "source": [
    "data.head()"
   ]
  },
  {
   "cell_type": "code",
   "execution_count": 43,
   "metadata": {
    "ExecuteTime": {
     "end_time": "2021-05-22T19:53:32.865577Z",
     "start_time": "2021-05-22T19:53:31.839296Z"
    }
   },
   "outputs": [],
   "source": [
    "data.to_csv('New_data.csv')"
   ]
  },
  {
   "cell_type": "code",
   "execution_count": 46,
   "metadata": {
    "ExecuteTime": {
     "end_time": "2021-05-22T19:57:21.807919Z",
     "start_time": "2021-05-22T19:57:21.795444Z"
    }
   },
   "outputs": [
    {
     "data": {
      "text/plain": [
       "Index(['Tweets', 'id', 'lens', 'date', 'place', 'coordinateS', 'lang',\n",
       "       'source', 'likes', 'retweets', 'New_Tweets', 'New'],\n",
       "      dtype='object')"
      ]
     },
     "execution_count": 46,
     "metadata": {},
     "output_type": "execute_result"
    }
   ],
   "source": [
    "data.columns"
   ]
  },
  {
   "cell_type": "code",
   "execution_count": 47,
   "metadata": {
    "ExecuteTime": {
     "end_time": "2021-05-22T19:57:36.305896Z",
     "start_time": "2021-05-22T19:57:36.291963Z"
    }
   },
   "outputs": [
    {
     "data": {
      "text/plain": [
       "18      rape think painful persecuted allow persecutor...\n",
       "22      being used weapon fighting rages remote parts ...\n",
       "25           sporting that allegedly innocent look auspol\n",
       "26      marks months since start armed conflict betwee...\n",
       "28                                      being used weapon\n",
       "                              ...                        \n",
       "4993    role criminal justice system responding import...\n",
       "5011    emotional abusers good intimidating without mu...\n",
       "5012    find safe place without constant fear abusive ...\n",
       "5014    number women temporary visas presenting requir...\n",
       "5019    charged with domesticviolence after victim kid...\n",
       "Name: New, Length: 20674, dtype: object"
      ]
     },
     "execution_count": 47,
     "metadata": {},
     "output_type": "execute_result"
    }
   ],
   "source": [
    "data['New']"
   ]
  },
  {
   "cell_type": "code",
   "execution_count": 52,
   "metadata": {
    "ExecuteTime": {
     "end_time": "2021-05-22T19:59:06.656744Z",
     "start_time": "2021-05-22T19:59:06.635299Z"
    }
   },
   "outputs": [
    {
     "data": {
      "text/plain": [
       "18    rape think painful persecuted allow persecutor...\n",
       "18    when outdated gender based violence implies th...\n",
       "18                                                     \n",
       "18    when spray will look with eyes should spray th...\n",
       "18    thrilled join talk about domesticviolence vita...\n",
       "Name: New, dtype: object"
      ]
     },
     "execution_count": 52,
     "metadata": {},
     "output_type": "execute_result"
    }
   ],
   "source": [
    "data['New'][18]"
   ]
  },
  {
   "cell_type": "code",
   "execution_count": 50,
   "metadata": {
    "ExecuteTime": {
     "end_time": "2021-05-22T19:58:15.143161Z",
     "start_time": "2021-05-22T19:58:15.132485Z"
    }
   },
   "outputs": [
    {
     "data": {
      "text/plain": [
       "5"
      ]
     },
     "execution_count": 50,
     "metadata": {},
     "output_type": "execute_result"
    }
   ],
   "source": [
    "len(data['New'][18])"
   ]
  },
  {
   "cell_type": "code",
   "execution_count": null,
   "metadata": {},
   "outputs": [],
   "source": []
  }
 ],
 "metadata": {
  "kernelspec": {
   "display_name": "Python 3",
   "language": "python",
   "name": "python3"
  },
  "language_info": {
   "codemirror_mode": {
    "name": "ipython",
    "version": 3
   },
   "file_extension": ".py",
   "mimetype": "text/x-python",
   "name": "python",
   "nbconvert_exporter": "python",
   "pygments_lexer": "ipython3",
   "version": "3.7.0"
  },
  "toc": {
   "base_numbering": 1,
   "nav_menu": {},
   "number_sections": true,
   "sideBar": true,
   "skip_h1_title": false,
   "title_cell": "Table of Contents",
   "title_sidebar": "Contents",
   "toc_cell": false,
   "toc_position": {},
   "toc_section_display": true,
   "toc_window_display": false
  }
 },
 "nbformat": 4,
 "nbformat_minor": 2
}
